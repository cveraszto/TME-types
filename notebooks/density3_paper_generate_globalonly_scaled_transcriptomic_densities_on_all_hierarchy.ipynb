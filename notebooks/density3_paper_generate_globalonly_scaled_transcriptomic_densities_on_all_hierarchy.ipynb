{
 "cells": [
  {
   "cell_type": "code",
   "execution_count": 7,
   "id": "42454921-e03a-4691-b593-1ee01eb43318",
   "metadata": {},
   "outputs": [],
   "source": [
    "import nrrd\n",
    "import pandas as pd\n",
    "import numpy as np\n",
    "import pickle\n",
    "import os, ast, re\n",
    "\n",
    "import json\n",
    "from voxcell import RegionMap\n",
    "import multiprocessing as mp"
   ]
  },
  {
   "cell_type": "markdown",
   "id": "282f3237-38c1-4b5c-8692-ae7804d9acb6",
   "metadata": {},
   "source": [
    "# USE annotation hierarchy generated densities\n",
    "Use both new json and evolved CCFv3a to produce average regional cell type densities"
   ]
  },
  {
   "cell_type": "code",
   "execution_count": 2,
   "id": "3f6286c6-41d8-4388-b695-4f9bc5f35994",
   "metadata": {},
   "outputs": [],
   "source": [
    "root_folder = '/gpfs/bbp.cscs.ch/data/project/proj84/csaba/aibs_10x_mouse_wholebrain/results/density_calculations/'\n",
    "results_folder = f'{root_folder}total_nrrd/'"
   ]
  },
  {
   "cell_type": "code",
   "execution_count": 3,
   "id": "308790ca-1788-4ba0-b323-60ee2f749d60",
   "metadata": {},
   "outputs": [],
   "source": [
    "# Function to convert string to list\n",
    "def convert_to_list(x):\n",
    "    try:\n",
    "        return ast.literal_eval(x)\n",
    "    except (ValueError, SyntaxError):\n",
    "        return x  # Return as-is if it cannot be evaluated\n",
    "\n",
    "\n",
    "#Save the hierarchy file as dataframe: this contains all children and volume for each region\n",
    "save_file_here = '/gpfs/bbp.cscs.ch/data/project/proj84/csaba/aibs_10x_mouse_wholebrain/results/df_hierarchy_ccfv3_l23split_barrelsplit.csv'\n",
    "merged_df = pd.read_csv(save_file_here, index_col='Unnamed: 0')\n",
    "\n",
    "# Convert 'children' column from string to list\n",
    "if 'children' in merged_df.columns:\n",
    "    merged_df['children'] = merged_df['children'].apply(convert_to_list)\n"
   ]
  },
  {
   "cell_type": "code",
   "execution_count": 4,
   "id": "51d7d4e0-5d84-4743-b630-1825ade337f6",
   "metadata": {},
   "outputs": [
    {
     "data": {
      "text/html": [
       "<div>\n",
       "<style scoped>\n",
       "    .dataframe tbody tr th:only-of-type {\n",
       "        vertical-align: middle;\n",
       "    }\n",
       "\n",
       "    .dataframe tbody tr th {\n",
       "        vertical-align: top;\n",
       "    }\n",
       "\n",
       "    .dataframe thead th {\n",
       "        text-align: right;\n",
       "    }\n",
       "</style>\n",
       "<table border=\"1\" class=\"dataframe\">\n",
       "  <thead>\n",
       "    <tr style=\"text-align: right;\">\n",
       "      <th></th>\n",
       "      <th>id</th>\n",
       "      <th>acronym</th>\n",
       "      <th>name</th>\n",
       "      <th>vox_count25</th>\n",
       "      <th>vol_mm3</th>\n",
       "      <th>children</th>\n",
       "      <th>acr_list</th>\n",
       "    </tr>\n",
       "  </thead>\n",
       "  <tbody>\n",
       "    <tr>\n",
       "      <th>0</th>\n",
       "      <td>997</td>\n",
       "      <td>root</td>\n",
       "      <td>root</td>\n",
       "      <td>32750610.0</td>\n",
       "      <td>511.728281</td>\n",
       "      <td>[304325711, 1811993763, 484682512, 2500193001,...</td>\n",
       "      <td>['retina', 'root_O', 'scwm', 'fiber tracts_O',...</td>\n",
       "    </tr>\n",
       "    <tr>\n",
       "      <th>1</th>\n",
       "      <td>8</td>\n",
       "      <td>grey</td>\n",
       "      <td>Basic cell groups and regions</td>\n",
       "      <td>29153428.0</td>\n",
       "      <td>455.522313</td>\n",
       "      <td>[3092369320, 3101970431, 1144, 1145, 1143, 989...</td>\n",
       "      <td>['CB_O', 'MB_O', 'CBXmo', 'CBXpu', 'CBXgr', 'F...</td>\n",
       "    </tr>\n",
       "    <tr>\n",
       "      <th>2</th>\n",
       "      <td>567</td>\n",
       "      <td>CH</td>\n",
       "      <td>Cerebrum</td>\n",
       "      <td>17629726.0</td>\n",
       "      <td>275.464469</td>\n",
       "      <td>[16, 583, 131, 780, 2416897036, 3034756217, 21...</td>\n",
       "      <td>['6b', 'CLA', 'LA', 'PA', 'CTXsp_O', 'STR_O', ...</td>\n",
       "    </tr>\n",
       "  </tbody>\n",
       "</table>\n",
       "</div>"
      ],
      "text/plain": [
       "    id acronym                           name  vox_count25     vol_mm3  \\\n",
       "0  997    root                           root   32750610.0  511.728281   \n",
       "1    8    grey  Basic cell groups and regions   29153428.0  455.522313   \n",
       "2  567      CH                       Cerebrum   17629726.0  275.464469   \n",
       "\n",
       "                                            children  \\\n",
       "0  [304325711, 1811993763, 484682512, 2500193001,...   \n",
       "1  [3092369320, 3101970431, 1144, 1145, 1143, 989...   \n",
       "2  [16, 583, 131, 780, 2416897036, 3034756217, 21...   \n",
       "\n",
       "                                            acr_list  \n",
       "0  ['retina', 'root_O', 'scwm', 'fiber tracts_O',...  \n",
       "1  ['CB_O', 'MB_O', 'CBXmo', 'CBXpu', 'CBXgr', 'F...  \n",
       "2  ['6b', 'CLA', 'LA', 'PA', 'CTXsp_O', 'STR_O', ...  "
      ]
     },
     "execution_count": 4,
     "metadata": {},
     "output_type": "execute_result"
    }
   ],
   "source": [
    "merged_df.head(3)"
   ]
  },
  {
   "cell_type": "markdown",
   "id": "623ad0ae-5ce3-487d-bd3f-8c88b23b4550",
   "metadata": {},
   "source": [
    "Next we generate total density files to calculate densities everywhere (of the json file):"
   ]
  },
  {
   "cell_type": "markdown",
   "id": "f03f7858-be8d-4ba8-b26e-f5f1b67e71e3",
   "metadata": {},
   "source": [
    "# Create NRRD files: \n",
    "From only globally scaled ABC density data:"
   ]
  },
  {
   "cell_type": "code",
   "execution_count": 5,
   "id": "2daf0e5d-4fa9-4c21-a87d-7b7b2618ad24",
   "metadata": {},
   "outputs": [
    {
     "name": "stdout",
     "output_type": "stream",
     "text": [
      "CPU times: user 16.2 s, sys: 436 ms, total: 16.7 s\n",
      "Wall time: 16.9 s\n"
     ]
    }
   ],
   "source": [
    "%%time \n",
    "\n",
    "meta_path = \"/gpfs/bbp.cscs.ch/data/project/proj84/csaba/aibs_10x_mouse_wholebrain/metadata/WMB-10X/20231215/views/cell_metadata_with_cluster_annotation.csv\"\n",
    "columns_to_read = ['class', 'subclass', 'cluster']\n",
    "#metadata = pd.read_csv(meta_path, dtype={'cell_label':str}, low_memory=False)\n",
    "metadata = pd.read_csv(meta_path, usecols=columns_to_read, )\n",
    "\n",
    "n_classes = ['01 IT-ET Glut', '02 NP-CT-L6b Glut', '03 OB-CR Glut',\n",
    "       '04 DG-IMN Glut', '05 OB-IMN GABA', '06 CTX-CGE GABA',\n",
    "       '07 CTX-MGE GABA', '08 CNU-MGE GABA', '09 CNU-LGE GABA',\n",
    "       '10 LSX GABA', '11 CNU-HYa GABA', '12 HY GABA', '13 CNU-HYa Glut',\n",
    "       '14 HY Glut', '15 HY Gnrh1 Glut', '16 HY MM Glut', '17 MH-LH Glut',\n",
    "       '18 TH Glut', '19 MB Glut', '20 MB GABA', '21 MB Dopa',\n",
    "       '22 MB-HB Sero', '23 P Glut', '24 MY Glut', '25 Pineal Glut',\n",
    "       '26 P GABA', '27 MY GABA', '28 CB GABA', '29 CB Glut',]\n",
    "\n",
    "nn_classes = ['30 Astro-Epen', '31 OPC-Oligo', '32 OEC', '33 Vascular',\n",
    "       '34 Immune']\n",
    "\n",
    "exc_classes = ['01 IT-ET Glut', '02 NP-CT-L6b Glut', '03 OB-CR Glut',\n",
    "      '04 DG-IMN Glut', '13 CNU-HYa Glut', '14 HY Glut', '15 HY Gnrh1 Glut', '16 HY MM Glut', '17 MH-LH Glut',\n",
    "      '18 TH Glut', '19 MB Glut', '23 P Glut', '24 MY Glut', '25 Pineal Glut', '29 CB Glut',]\n",
    "inh_classes = ['05 OB-IMN GABA', '06 CTX-CGE GABA', '07 CTX-MGE GABA', '08 CNU-MGE GABA', '09 CNU-LGE GABA',\n",
    "      '10 LSX GABA', '11 CNU-HYa GABA', '12 HY GABA', '20 MB GABA', '26 P GABA', '27 MY GABA', '28 CB GABA', ]\n",
    "other_classes = ['21 MB Dopa', '22 MB-HB Sero', ]\n",
    "exci_inhib_sum_classes = exc_classes + inh_classes\n",
    "\n",
    "astrotypes_clusters = ['5206 Bergmann NN_1', '5207 Astro-CB NN_1', '5208 Astro-NT NN_1',\n",
    "       '5209 Astro-NT NN_1', '5210 Astro-NT NN_1', '5211 Astro-NT NN_1',\n",
    "       '5212 Astro-NT NN_1', '5213 Astro-NT NN_1', '5214 Astro-NT NN_2',\n",
    "       '5215 Astro-NT NN_2', '5216 Astro-NT NN_2', '5217 Astro-NT NN_2',\n",
    "       '5218 Astro-TE NN_1', '5219 Astro-TE NN_1', '5220 Astro-TE NN_1',\n",
    "       '5221 Astro-TE NN_1', '5222 Astro-TE NN_2', '5223 Astro-TE NN_2',\n",
    "       '5224 Astro-TE NN_3', '5225 Astro-TE NN_3', '5226 Astro-TE NN_3',\n",
    "       '5227 Astro-TE NN_3', '5228 Astro-TE NN_4', '5229 Astro-TE NN_5',\n",
    "       '5230 Astro-TE NN_5', '5231 Astro-OLF NN_1', '5232 Astro-OLF NN_1',\n",
    "       '5233 Astro-OLF NN_2', '5234 Astro-OLF NN_2',\n",
    "       '5235 Astro-OLF NN_3', '5236 Astro-OLF NN_3',]\n",
    "\n",
    "microglia_clusters = ['5312 Microglia NN_1']\n",
    "\n",
    "oligos_clusters = [ '5266 OPC NN_1', '5267 OPC NN_1',\n",
    "       '5268 OPC NN_1', '5269 OPC NN_1', '5270 OPC NN_1', '5271 OPC NN_2',\n",
    "       '5272 COP NN_1', '5273 COP NN_1', '5274 COP NN_1', '5275 COP NN_1',\n",
    "       '5276 COP NN_1', '5277 COP NN_1', '5278 NFOL NN_2',\n",
    "       '5279 NFOL NN_2', '5280 NFOL NN_2', '5281 NFOL NN_2',\n",
    "       '5282 MFOL NN_3', '5283 MFOL NN_3', '5284 MOL NN_4',\n",
    "       '5285 MOL NN_4', '5286 MOL NN_4', '5287 MOL NN_4', '5288 MOL NN_4',]\n",
    "\n",
    "glia_clusters = astrotypes_clusters + microglia_clusters + oligos_clusters\n",
    "\n",
    "neurontypes = np.unique(metadata[metadata['class'].isin(n_classes)]['cluster'].values)\n",
    "nonneurontypes = np.unique(metadata[metadata['class'].isin(nn_classes)]['cluster'].values)\n",
    "exctypes = np.unique(metadata[metadata['class'].isin(exc_classes)]['cluster'].values)\n",
    "inhtypes = np.unique(metadata[metadata['class'].isin(inh_classes)]['cluster'].values)\n",
    "othertypes = np.unique(metadata[metadata['class'].isin(other_classes)]['cluster'].values)\n",
    "exci_inhib_sum = np.unique(metadata[metadata['class'].isin(exci_inhib_sum_classes)]['cluster'].values)\n",
    "celltypes = np.unique(metadata['cluster'].values)"
   ]
  },
  {
   "cell_type": "code",
   "execution_count": 10,
   "id": "3781f23c-ff46-4a78-9903-e1858e2ee1d5",
   "metadata": {},
   "outputs": [],
   "source": [
    "file = '/gpfs/bbp.cscs.ch/data/project/proj84/csaba/aibs_10x_mouse_wholebrain/metadata/parcellation_to_parcellation_term_membership_extend.csv'\n",
    "parcellation_annotation = pd.read_csv(file)\n",
    "\n",
    "annotation_volume_folder = \"/gpfs/bbp.cscs.ch/project/proj84/piluso/share/general/warped_augmented_CCFv3/\"\n",
    "CCFv3, _ = nrrd.read(f'{annotation_volume_folder}annotation_25_2022_CCFv3a.nrrd')\n",
    "# CCFv3, _ = nrrd.read(\"/gpfs/bbp.cscs.ch/data/project/proj84/atlas_pipeline_runs/2024-05-15T22:44:26+02:00/annotation_ccfv3_l23split_barrelsplit_validated.nrrd\")"
   ]
  },
  {
   "cell_type": "code",
   "execution_count": 6,
   "id": "bbf004fd-b9f9-4fa8-a532-28d3fe3a2d4f",
   "metadata": {},
   "outputs": [
    {
     "name": "stdout",
     "output_type": "stream",
     "text": [
      "Loaded pickle file.\n",
      "CPU times: user 37.1 s, sys: 98.6 ms, total: 37.2 s\n",
      "Wall time: 39.8 s\n"
     ]
    }
   ],
   "source": [
    "%%time\n",
    "\n",
    "file = os.path.join( root_folder, 'scaled_densities_global_only.pickle' )\n",
    "\n",
    "#Load region id volumes from volume_calc_from_template.ipynb\n",
    "with open(file, 'rb') as pickle_file:\n",
    "    scaled_combined_result_dataframes = pickle.load(pickle_file)\n",
    "print(\"Loaded pickle file.\")\n",
    "\n",
    "import sys\n",
    "sys.path.append('/gpfs/bbp.cscs.ch/data/project/proj84/csaba/aibs_10x_mouse_wholebrain/notebooks/scripts/')\n",
    "\n",
    "from helper_functions import create_combined_dataframe\n",
    "# #Create a dict of df, each containing a cell type's occurence in all regions and its densities in all regions\n",
    "# result_dataframes = read_and_concat_csv_files_new(csv_filenames, unique_prefixes, folder_path) #[region]celltypes\n",
    "# combined_result_dataframes = combine_rows_and_calculate_average(result_dataframes)\n",
    "shuffled_combined_dataframes = create_combined_dataframe(scaled_combined_result_dataframes) #[celltypes]region\n"
   ]
  },
  {
   "cell_type": "code",
   "execution_count": 24,
   "id": "22512e43-8f26-4b03-ae39-a2bd662dda40",
   "metadata": {},
   "outputs": [
    {
     "data": {
      "text/plain": [
       "703"
      ]
     },
     "execution_count": 24,
     "metadata": {},
     "output_type": "execute_result"
    }
   ],
   "source": [
    "len(scaled_combined_result_dataframes.keys())"
   ]
  },
  {
   "cell_type": "code",
   "execution_count": 11,
   "id": "6901447d-68ca-4f3b-bd54-dc317552e6b2",
   "metadata": {},
   "outputs": [],
   "source": [
    "def nrrd_for_validation(df, parcellation_annotation, CCFv3):\n",
    "    all_ids_for_df = []\n",
    "    df_comb = pd.DataFrame()\n",
    "\n",
    "    for regionname in df.index.values[0:]:\n",
    "        density = df.loc[regionname, 'density_mm3']\n",
    "        #annotation_id_info = substructures[substructures['cluster_as_filename'] == regionname]\n",
    "        annotation_id_info = parcellation_annotation[parcellation_annotation['cluster_as_filename'] == regionname]\n",
    "\n",
    "        Annotation2020ids = [int(re.search(r'\\d+$', s).group()) for s in annotation_id_info['parcellation_label'].values]\n",
    "        df_sub = pd.DataFrame({'density': density}, index=Annotation2020ids)\n",
    "        df_comb = pd.concat([df_comb, df_sub])\n",
    "        all_ids_for_df.append(Annotation2020ids)\n",
    "\n",
    "    all_ids_for_df = [value for sublist in all_ids_for_df for value in sublist]\n",
    "    all_ids_for_df.append(0)\n",
    "    #Place to put extra regions not part of Allen's Parcellation annotation\n",
    "\n",
    "    outside = 0\n",
    "    outsideid = [0]\n",
    "    df_sub = pd.DataFrame({'density': outside}, index=outsideid)\n",
    "    df_comb = pd.concat([df_comb, df_sub])\n",
    "\n",
    "    CCFv3_copy = CCFv3.copy()\n",
    "\n",
    "    # Expression is 0 in those regions where we don't have any info:\n",
    "    CCFv3_copy[~np.isin(CCFv3_copy, all_ids_for_df)] = 0.0 \n",
    "\n",
    "    # Expression is non-zero in these leaf region(s)\n",
    "    for index, row in df_comb.iterrows():\n",
    "        density_value = row['density']\n",
    "        region_id = index\n",
    "        CCFv3_copy[np.isin(CCFv3, region_id)] = density_value\n",
    "\n",
    "    #Create outside of the brain as 0\n",
    "    CCFv3_copy[np.isin(CCFv3, int(0))] = 0\n",
    "\n",
    "    return CCFv3_copy"
   ]
  },
  {
   "cell_type": "code",
   "execution_count": 12,
   "id": "bcc5b3af-9d57-453c-a70b-8d189e4af61c",
   "metadata": {},
   "outputs": [
    {
     "name": "stdout",
     "output_type": "stream",
     "text": [
      "globalonly_scaled_total_neuron_densities\n",
      "globalonly_scaled_total_nonneuron_densities\n",
      "globalonly_scaled_total_excitatory_densities\n",
      "globalonly_scaled_total_inhibitory_densities\n",
      "globalonly_scaled_total_astrotypes_densities\n",
      "globalonly_scaled_total_microglia_densities\n",
      "globalonly_scaled_total_oligocyte_densities\n",
      "globalonly_scaled_total_glia_densities\n",
      "globalonly_scaled_total_excinh_densities\n",
      "globalonly_scaled_total_celltypes_densities\n",
      "CPU times: user 1min 6s, sys: 5.58 s, total: 1min 12s\n",
      "Wall time: 13min 40s\n"
     ]
    }
   ],
   "source": [
    "%%time\n",
    "\n",
    "def process_type(types, file_name):\n",
    "    # Filter DataFrames based on types\n",
    "    filtered_dataframes = {key: value for key, value in shuffled_combined_dataframes.items() if key in types}\n",
    "    \n",
    "    # Combine filtered DataFrames\n",
    "    combined_df = pd.concat(filtered_dataframes.values())\n",
    "    \n",
    "    # Sum the combined DataFrame by index\n",
    "    summed_df = combined_df.groupby(combined_df.index).sum()\n",
    "    \n",
    "    # Validate result\n",
    "    result = nrrd_for_validation(summed_df, parcellation_annotation, CCFv3)\n",
    "    \n",
    "    # Clean up\n",
    "    del combined_df, summed_df, filtered_dataframes\n",
    "    \n",
    "    return (result, file_name)\n",
    "\n",
    "def main():\n",
    "    # Define the parameters for each process\n",
    "    tasks = [\n",
    "        (neurontypes, \"globalonly_scaled_total_neuron_densities\"),\n",
    "        (nonneurontypes, \"globalonly_scaled_total_nonneuron_densities\"),\n",
    "        (exctypes, \"globalonly_scaled_total_excitatory_densities\"),\n",
    "        (inhtypes, \"globalonly_scaled_total_inhibitory_densities\"),\n",
    "        (astrotypes_clusters, \"globalonly_scaled_total_astrotypes_densities\"),\n",
    "        (microglia_clusters, \"globalonly_scaled_total_microglia_densities\"),\n",
    "        (oligos_clusters, \"globalonly_scaled_total_oligocyte_densities\"),\n",
    "        (glia_clusters, \"globalonly_scaled_total_glia_densities\"),\n",
    "        (exci_inhib_sum, \"globalonly_scaled_total_excinh_densities\"),\n",
    "        (celltypes, \"globalonly_scaled_total_celltypes_densities\"),\n",
    "    ]\n",
    "    \n",
    "    # Create a multiprocessing Pool\n",
    "    with mp.Pool(processes=mp.cpu_count()) as pool:\n",
    "        results = pool.starmap(process_type, tasks)\n",
    "    \n",
    "    # Sequentially write the .nrrd files to avoid concurrent writes\n",
    "    for result, file_name in results:\n",
    "        print(file_name)\n",
    "        nrrd.write(f\"{results_folder}{file_name}.nrrd\", result)\n",
    "\n",
    "if __name__ == \"__main__\":\n",
    "    main()"
   ]
  },
  {
   "cell_type": "code",
   "execution_count": 13,
   "id": "b45c4a89-f024-4a39-b266-104da2dc0e6e",
   "metadata": {},
   "outputs": [
    {
     "data": {
      "text/plain": [
       "((566, 320, 456),\n",
       " (566, 320, 456),\n",
       " (566, 320, 456),\n",
       " (566, 320, 456),\n",
       " (566, 320, 456),\n",
       " (566, 320, 456),\n",
       " (566, 320, 456),\n",
       " (566, 320, 456))"
      ]
     },
     "execution_count": 13,
     "metadata": {},
     "output_type": "execute_result"
    }
   ],
   "source": [
    "#EXC\n",
    "filename = \"globalonly_scaled_total_excitatory_densities.nrrd\"\n",
    "full_path = os.path.join(results_folder, filename)\n",
    "if os.path.isfile(full_path):\n",
    "    exc, _ = nrrd.read(full_path)\n",
    "#INH        \n",
    "filename = \"globalonly_scaled_total_inhibitory_densities.nrrd\"\n",
    "full_path = os.path.join(results_folder, filename)\n",
    "if os.path.isfile(full_path):\n",
    "    inh, _ = nrrd.read(full_path)\n",
    "#GLIA    \n",
    "filename = \"globalonly_scaled_total_glia_densities.nrrd\"\n",
    "full_path = os.path.join(results_folder, filename)\n",
    "if os.path.isfile(full_path):\n",
    "    glia, _ = nrrd.read(full_path)\n",
    "#NEURON\n",
    "filename = \"globalonly_scaled_total_neuron_densities.nrrd\"\n",
    "full_path = os.path.join(results_folder, filename)\n",
    "if os.path.isfile(full_path):\n",
    "    neuron, _ = nrrd.read(full_path)\n",
    "#ASTRO\n",
    "filename = \"globalonly_scaled_total_astrotypes_densities.nrrd\"\n",
    "full_path = os.path.join(results_folder, filename)\n",
    "if os.path.isfile(full_path):\n",
    "    astro, _ = nrrd.read(full_path)\n",
    "#OLIGO\n",
    "filename = \"globalonly_scaled_total_oligocyte_densities.nrrd\"\n",
    "full_path = os.path.join(results_folder, filename)\n",
    "if os.path.isfile(full_path):\n",
    "    oligo, _ = nrrd.read(full_path)\n",
    "#NONNEURON\n",
    "filename = \"globalonly_scaled_total_nonneuron_densities.nrrd\"\n",
    "full_path = os.path.join(results_folder, filename)\n",
    "if os.path.isfile(full_path):\n",
    "    nonneuron, _ = nrrd.read(full_path)\n",
    "#MICROGLIA\n",
    "filename = \"globalonly_scaled_total_microglia_densities.nrrd\"\n",
    "full_path = os.path.join(results_folder, filename)\n",
    "if os.path.isfile(full_path):\n",
    "    microglia, _ = nrrd.read(full_path)\n",
    "\n",
    "exc.shape, inh.shape, glia.shape, neuron.shape, astro.shape, oligo.shape, nonneuron.shape, microglia.shape"
   ]
  },
  {
   "cell_type": "code",
   "execution_count": 14,
   "id": "5b60510f-71da-4450-98be-d56e5670d209",
   "metadata": {},
   "outputs": [
    {
     "name": "stderr",
     "output_type": "stream",
     "text": [
      "/nvme/veraszto/2724323/ipykernel_141110/3276718398.py:3: RuntimeWarning: Mean of empty slice.\n",
      "  neuron[mask].mean()\n",
      "/gpfs/bbp.cscs.ch/data/project/proj84/csaba/git/cellden/lib/python3.12/site-packages/numpy/core/_methods.py:129: RuntimeWarning: invalid value encountered in scalar divide\n",
      "  ret = ret.dtype.type(ret / rcount)\n"
     ]
    },
    {
     "data": {
      "text/plain": [
       "nan"
      ]
     },
     "execution_count": 14,
     "metadata": {},
     "output_type": "execute_result"
    }
   ],
   "source": [
    "mask = (CCFv3 == 2646114338)\n",
    "\n",
    "neuron[mask].mean()"
   ]
  },
  {
   "cell_type": "code",
   "execution_count": null,
   "id": "010c1de0-008b-4dc7-8234-dfc0a1f3f184",
   "metadata": {
    "scrolled": true
   },
   "outputs": [],
   "source": [
    "%%time\n",
    "\n",
    "# Arrays to process\n",
    "arrays = {\n",
    "    'neurons_mm3': neuron,\n",
    "    'inh_mm3': inh,\n",
    "    'exc_mm3': exc,\n",
    "    'glia_mm3': glia,\n",
    "    'astro_mm3': astro,\n",
    "    'oligo_mm3': oligo,\n",
    "    'microglia_mm3': microglia, \n",
    "    'nonneuron_mm3': nonneuron\n",
    "}\n",
    "\n",
    "# Worker function to process each row\n",
    "def process_row(row):\n",
    "    id_ = row['id']\n",
    "    acr = row['acronym']\n",
    "    name = row['name']\n",
    "    ids = row['children']\n",
    "    ids.append(id_)\n",
    "    \n",
    "    \n",
    "    # Create a mask for the current id list\n",
    "    mask = np.isin(CCFv3, [ids])\n",
    "    \n",
    "    # Calculate mean/median values (can place NaN or None in the regions not present in CCfV3)\n",
    "    # mean_values = {name: arr[mask].mean() if arr[mask].size > \n",
    "    #                0 else np.nan for name, arr in arrays.items()}\n",
    "    mean_values = {name: arr[mask].mean() if arr[mask].size > \n",
    "                   0 else None for name, arr in arrays.items()}\n",
    "    # mean_values = {name: np.median(arr[mask]) if arr[mask].size > \n",
    "    #                0 else None for name, arr in arrays.items()}\n",
    "    \n",
    "    # Construct the result dictionary\n",
    "    result = {\n",
    "        'id': id_,\n",
    "        'acronym': acr,\n",
    "        'name': name,\n",
    "        **mean_values\n",
    "    }\n",
    "    return result\n",
    "\n",
    "# Use multiprocessing Pool to process rows in parallel\n",
    "if __name__ == '__main__':\n",
    "    with mp.Pool(processes=mp.cpu_count()) as pool:\n",
    "        new_data = pool.map(process_row, [row for _, row in merged_df.iterrows()])\n",
    "\n",
    "    # Convert new_data list to a DataFrame\n",
    "    new_data_df = pd.DataFrame(new_data).set_index('id')\n",
    "\n",
    "new_data_df.shape"
   ]
  },
  {
   "cell_type": "code",
   "execution_count": 13,
   "id": "a90a98c5-a9e7-4e7d-a33b-a609358ee8a1",
   "metadata": {},
   "outputs": [],
   "source": [
    "new_data_df.to_csv(f\"{root_folder}globalonly_scaled_mean_tr_densities.csv\")"
   ]
  },
  {
   "cell_type": "code",
   "execution_count": 28,
   "id": "c9ef5d41-2b2b-4453-b367-887f298aed2e",
   "metadata": {},
   "outputs": [
    {
     "data": {
      "text/html": [
       "<div>\n",
       "<style scoped>\n",
       "    .dataframe tbody tr th:only-of-type {\n",
       "        vertical-align: middle;\n",
       "    }\n",
       "\n",
       "    .dataframe tbody tr th {\n",
       "        vertical-align: top;\n",
       "    }\n",
       "\n",
       "    .dataframe thead th {\n",
       "        text-align: right;\n",
       "    }\n",
       "</style>\n",
       "<table border=\"1\" class=\"dataframe\">\n",
       "  <thead>\n",
       "    <tr style=\"text-align: right;\">\n",
       "      <th></th>\n",
       "      <th>acronym</th>\n",
       "      <th>name</th>\n",
       "      <th>neurons_mm3</th>\n",
       "      <th>inh_mm3</th>\n",
       "      <th>exc_mm3</th>\n",
       "      <th>glia_mm3</th>\n",
       "      <th>astro_mm3</th>\n",
       "      <th>oligo_mm3</th>\n",
       "      <th>microglia_mm3</th>\n",
       "      <th>nonneuron_mm3</th>\n",
       "    </tr>\n",
       "    <tr>\n",
       "      <th>id</th>\n",
       "      <th></th>\n",
       "      <th></th>\n",
       "      <th></th>\n",
       "      <th></th>\n",
       "      <th></th>\n",
       "      <th></th>\n",
       "      <th></th>\n",
       "      <th></th>\n",
       "      <th></th>\n",
       "      <th></th>\n",
       "    </tr>\n",
       "  </thead>\n",
       "  <tbody>\n",
       "    <tr>\n",
       "      <th>2646114338</th>\n",
       "      <td>FRP2</td>\n",
       "      <td>Frontal pole, layer 2</td>\n",
       "      <td>0.0</td>\n",
       "      <td>0.0</td>\n",
       "      <td>0.0</td>\n",
       "      <td>0.0</td>\n",
       "      <td>0.0</td>\n",
       "      <td>0.0</td>\n",
       "      <td>0.0</td>\n",
       "      <td>0.0</td>\n",
       "    </tr>\n",
       "    <tr>\n",
       "      <th>3412423041</th>\n",
       "      <td>MOs2</td>\n",
       "      <td>Secondary motor area, layer 2</td>\n",
       "      <td>0.0</td>\n",
       "      <td>0.0</td>\n",
       "      <td>0.0</td>\n",
       "      <td>0.0</td>\n",
       "      <td>0.0</td>\n",
       "      <td>0.0</td>\n",
       "      <td>0.0</td>\n",
       "      <td>0.0</td>\n",
       "    </tr>\n",
       "    <tr>\n",
       "      <th>1060511842</th>\n",
       "      <td>sup_O</td>\n",
       "      <td>supraoptic commissures: Other</td>\n",
       "      <td>0.0</td>\n",
       "      <td>0.0</td>\n",
       "      <td>0.0</td>\n",
       "      <td>0.0</td>\n",
       "      <td>0.0</td>\n",
       "      <td>0.0</td>\n",
       "      <td>0.0</td>\n",
       "      <td>0.0</td>\n",
       "    </tr>\n",
       "  </tbody>\n",
       "</table>\n",
       "</div>"
      ],
      "text/plain": [
       "           acronym                           name  neurons_mm3  inh_mm3  \\\n",
       "id                                                                        \n",
       "2646114338    FRP2          Frontal pole, layer 2          0.0      0.0   \n",
       "3412423041    MOs2  Secondary motor area, layer 2          0.0      0.0   \n",
       "1060511842   sup_O  supraoptic commissures: Other          0.0      0.0   \n",
       "\n",
       "            exc_mm3  glia_mm3  astro_mm3  oligo_mm3  microglia_mm3  \\\n",
       "id                                                                   \n",
       "2646114338      0.0       0.0        0.0        0.0            0.0   \n",
       "3412423041      0.0       0.0        0.0        0.0            0.0   \n",
       "1060511842      0.0       0.0        0.0        0.0            0.0   \n",
       "\n",
       "            nonneuron_mm3  \n",
       "id                         \n",
       "2646114338            0.0  \n",
       "3412423041            0.0  \n",
       "1060511842            0.0  "
      ]
     },
     "execution_count": 28,
     "metadata": {},
     "output_type": "execute_result"
    }
   ],
   "source": [
    "new_data_df[new_data_df.index.isin([2646114338, 1060511842, 3412423041\t])]"
   ]
  },
  {
   "cell_type": "code",
   "execution_count": null,
   "id": "167829db-fa97-4b20-b5ec-0630d081478e",
   "metadata": {},
   "outputs": [],
   "source": []
  }
 ],
 "metadata": {
  "kernelspec": {
   "display_name": "Python 3 (ipykernel)",
   "language": "python",
   "name": "python3"
  },
  "language_info": {
   "codemirror_mode": {
    "name": "ipython",
    "version": 3
   },
   "file_extension": ".py",
   "mimetype": "text/x-python",
   "name": "python",
   "nbconvert_exporter": "python",
   "pygments_lexer": "ipython3",
   "version": "3.12.2"
  }
 },
 "nbformat": 4,
 "nbformat_minor": 5
}
