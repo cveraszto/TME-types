{
 "cells": [
  {
   "cell_type": "code",
   "execution_count": 1,
   "id": "68bc1163-33b1-4274-b8cd-0346a1bcde21",
   "metadata": {},
   "outputs": [],
   "source": [
    "import sys\n",
    "import json\n",
    "import os\n",
    "import pandas as pd\n",
    "import anndata\n",
    "import time\n",
    "import numpy as np\n",
    "from scipy import stats"
   ]
  },
  {
   "cell_type": "markdown",
   "id": "eeb7202a-3c8c-46fc-b9a7-8410bc5fbcfd",
   "metadata": {},
   "source": [
    "## Find missing files"
   ]
  },
  {
   "cell_type": "code",
   "execution_count": 2,
   "id": "0e6870c8-59de-4c93-ac88-72005cd155f3",
   "metadata": {},
   "outputs": [
    {
     "name": "stdout",
     "output_type": "stream",
     "text": [
      "Total number of files:  338\n",
      "Missing file numbers: []\n"
     ]
    }
   ],
   "source": [
    "import os \n",
    "\n",
    "download_base = \"/gpfs/bbp.cscs.ch/data/project/proj84/csaba/aibs_10x_mouse_wholebrain/\"\n",
    "\n",
    "#directory_path = f\"{download_base}metadata/averages/20230830/subclass_mean/\"\n",
    "directory_path = f\"{download_base}metadata/averages/20230830/subclass_median/\"\n",
    "#directory_path = f\"{download_base}metadata/averages/20230830/supertype_median/\"\n",
    "#directory_path = f\"{download_base}metadata/averages/20230830/supertype_mean/\"\n",
    "\n",
    "\n",
    "# Define the expected range of file numbers\n",
    "start_number = 1\n",
    "end_number = 338  # Adjust the range based on your subclass sequence\n",
    "#end_number = 1201  # Adjust the range based on your supertype sequence\n",
    "\n",
    "# Create a set to store the presence of files\n",
    "file_exists = set()\n",
    "\n",
    "# Loop through existing files and mark their presence\n",
    "for filename in os.listdir(directory_path):\n",
    "    #print(filename)\n",
    "    # Extract the first three characters from the file name\n",
    "    file_number = filename[:3].zfill(3)\n",
    "    #print(file_number)\n",
    "    if file_number.isdigit():\n",
    "        file_exists.add(int(file_number))\n",
    "\n",
    "# Find and print the missing file numbers\n",
    "missing_files = set(range(start_number, end_number + 1)) - file_exists\n",
    "print(\"Total number of files: \", len(file_exists))\n",
    "print(\"Missing file numbers:\", sorted(missing_files))"
   ]
  },
  {
   "cell_type": "markdown",
   "id": "124cc6d4-6ed8-4aae-a22e-e268a5098402",
   "metadata": {
    "tags": []
   },
   "source": [
    "## Estimate calculation complexity\n",
    "\n",
    "Check the size of the matrix"
   ]
  },
  {
   "cell_type": "code",
   "execution_count": 5,
   "id": "b607b3ca-2932-48b8-b610-4609582cda5a",
   "metadata": {},
   "outputs": [],
   "source": [
    "download_base = \"/gpfs/bbp.cscs.ch/data/project/proj84/csaba/aibs_10x_mouse_wholebrain/\"\n",
    "\n",
    "url = download_base + '/releases/20230830/manifest.json'\n",
    "with open(url, 'r') as json_file:\n",
    "    manifest = json.load(json_file)\n",
    "\n",
    "metadata = manifest['file_listing']['WMB-10X']['metadata']"
   ]
  },
  {
   "cell_type": "code",
   "execution_count": 6,
   "id": "62a86e12-b1bb-43c9-8e1f-787d7f91b0a3",
   "metadata": {},
   "outputs": [
    {
     "name": "stdout",
     "output_type": "stream",
     "text": [
      "CPU times: user 28.2 s, sys: 2.09 s, total: 30.3 s\n",
      "Wall time: 30.6 s\n"
     ]
    }
   ],
   "source": [
    "%%time\n",
    "rpath = metadata['cell_metadata_with_cluster_annotation']['files']['csv']['relative_path']\n",
    "file = os.path.join( download_base, rpath)\n",
    "cell = pd.read_csv(file,dtype={\"neurotransmitter\":str})\n",
    "cell.set_index('cell_label',inplace=True)"
   ]
  },
  {
   "cell_type": "code",
   "execution_count": 7,
   "id": "4d99e18d-bf5b-4829-bd7e-071d2feec60d",
   "metadata": {
    "tags": []
   },
   "outputs": [
    {
     "data": {
      "text/html": [
       "<div>\n",
       "<style scoped>\n",
       "    .dataframe tbody tr th:only-of-type {\n",
       "        vertical-align: middle;\n",
       "    }\n",
       "\n",
       "    .dataframe tbody tr th {\n",
       "        vertical-align: top;\n",
       "    }\n",
       "\n",
       "    .dataframe thead th {\n",
       "        text-align: right;\n",
       "    }\n",
       "</style>\n",
       "<table border=\"1\" class=\"dataframe\">\n",
       "  <thead>\n",
       "    <tr style=\"text-align: right;\">\n",
       "      <th></th>\n",
       "      <th></th>\n",
       "      <th>library_label</th>\n",
       "    </tr>\n",
       "    <tr>\n",
       "      <th>dataset_label</th>\n",
       "      <th>feature_matrix_label</th>\n",
       "      <th></th>\n",
       "    </tr>\n",
       "  </thead>\n",
       "  <tbody>\n",
       "    <tr>\n",
       "      <th>WMB-10XMulti</th>\n",
       "      <th>WMB-10XMulti</th>\n",
       "      <td>1687</td>\n",
       "    </tr>\n",
       "    <tr>\n",
       "      <th rowspan=\"10\" valign=\"top\">WMB-10Xv2</th>\n",
       "      <th>WMB-10Xv2-CTXsp</th>\n",
       "      <td>43985</td>\n",
       "    </tr>\n",
       "    <tr>\n",
       "      <th>WMB-10Xv2-HPF</th>\n",
       "      <td>207281</td>\n",
       "    </tr>\n",
       "    <tr>\n",
       "      <th>WMB-10Xv2-HY</th>\n",
       "      <td>99879</td>\n",
       "    </tr>\n",
       "    <tr>\n",
       "      <th>WMB-10Xv2-Isocortex-1</th>\n",
       "      <td>248776</td>\n",
       "    </tr>\n",
       "    <tr>\n",
       "      <th>WMB-10Xv2-Isocortex-2</th>\n",
       "      <td>249360</td>\n",
       "    </tr>\n",
       "    <tr>\n",
       "      <th>WMB-10Xv2-Isocortex-3</th>\n",
       "      <td>249356</td>\n",
       "    </tr>\n",
       "    <tr>\n",
       "      <th>WMB-10Xv2-Isocortex-4</th>\n",
       "      <td>248784</td>\n",
       "    </tr>\n",
       "    <tr>\n",
       "      <th>WMB-10Xv2-MB</th>\n",
       "      <td>29781</td>\n",
       "    </tr>\n",
       "    <tr>\n",
       "      <th>WMB-10Xv2-OLF</th>\n",
       "      <td>192182</td>\n",
       "    </tr>\n",
       "    <tr>\n",
       "      <th>WMB-10Xv2-TH</th>\n",
       "      <td>130555</td>\n",
       "    </tr>\n",
       "    <tr>\n",
       "      <th rowspan=\"13\" valign=\"top\">WMB-10Xv3</th>\n",
       "      <th>WMB-10Xv3-CB</th>\n",
       "      <td>181723</td>\n",
       "    </tr>\n",
       "    <tr>\n",
       "      <th>WMB-10Xv3-CTXsp</th>\n",
       "      <td>78223</td>\n",
       "    </tr>\n",
       "    <tr>\n",
       "      <th>WMB-10Xv3-HPF</th>\n",
       "      <td>181055</td>\n",
       "    </tr>\n",
       "    <tr>\n",
       "      <th>WMB-10Xv3-HY</th>\n",
       "      <td>162296</td>\n",
       "    </tr>\n",
       "    <tr>\n",
       "      <th>WMB-10Xv3-Isocortex-1</th>\n",
       "      <td>227670</td>\n",
       "    </tr>\n",
       "    <tr>\n",
       "      <th>WMB-10Xv3-Isocortex-2</th>\n",
       "      <td>227537</td>\n",
       "    </tr>\n",
       "    <tr>\n",
       "      <th>WMB-10Xv3-MB</th>\n",
       "      <td>337101</td>\n",
       "    </tr>\n",
       "    <tr>\n",
       "      <th>WMB-10Xv3-MY</th>\n",
       "      <td>191746</td>\n",
       "    </tr>\n",
       "    <tr>\n",
       "      <th>WMB-10Xv3-OLF</th>\n",
       "      <td>88560</td>\n",
       "    </tr>\n",
       "    <tr>\n",
       "      <th>WMB-10Xv3-P</th>\n",
       "      <td>143157</td>\n",
       "    </tr>\n",
       "    <tr>\n",
       "      <th>WMB-10Xv3-PAL</th>\n",
       "      <td>108046</td>\n",
       "    </tr>\n",
       "    <tr>\n",
       "      <th>WMB-10Xv3-STR</th>\n",
       "      <td>283782</td>\n",
       "    </tr>\n",
       "    <tr>\n",
       "      <th>WMB-10Xv3-TH</th>\n",
       "      <td>130454</td>\n",
       "    </tr>\n",
       "  </tbody>\n",
       "</table>\n",
       "</div>"
      ],
      "text/plain": [
       "                                     library_label\n",
       "dataset_label feature_matrix_label                \n",
       "WMB-10XMulti  WMB-10XMulti                    1687\n",
       "WMB-10Xv2     WMB-10Xv2-CTXsp                43985\n",
       "              WMB-10Xv2-HPF                 207281\n",
       "              WMB-10Xv2-HY                   99879\n",
       "              WMB-10Xv2-Isocortex-1         248776\n",
       "              WMB-10Xv2-Isocortex-2         249360\n",
       "              WMB-10Xv2-Isocortex-3         249356\n",
       "              WMB-10Xv2-Isocortex-4         248784\n",
       "              WMB-10Xv2-MB                   29781\n",
       "              WMB-10Xv2-OLF                 192182\n",
       "              WMB-10Xv2-TH                  130555\n",
       "WMB-10Xv3     WMB-10Xv3-CB                  181723\n",
       "              WMB-10Xv3-CTXsp                78223\n",
       "              WMB-10Xv3-HPF                 181055\n",
       "              WMB-10Xv3-HY                  162296\n",
       "              WMB-10Xv3-Isocortex-1         227670\n",
       "              WMB-10Xv3-Isocortex-2         227537\n",
       "              WMB-10Xv3-MB                  337101\n",
       "              WMB-10Xv3-MY                  191746\n",
       "              WMB-10Xv3-OLF                  88560\n",
       "              WMB-10Xv3-P                   143157\n",
       "              WMB-10Xv3-PAL                 108046\n",
       "              WMB-10Xv3-STR                 283782\n",
       "              WMB-10Xv3-TH                  130454"
      ]
     },
     "execution_count": 7,
     "metadata": {},
     "output_type": "execute_result"
    }
   ],
   "source": [
    "cell.groupby(['dataset_label','feature_matrix_label'])[['library_label']].count()"
   ]
  },
  {
   "cell_type": "code",
   "execution_count": 8,
   "id": "bc1bf33f-65b0-41bc-b3fb-8efc5b8c393e",
   "metadata": {},
   "outputs": [],
   "source": [
    "matrices = cell.groupby(['dataset_label','feature_matrix_label'])[['library_label']].count()\n",
    "matrices.columns  = ['cell_count']"
   ]
  },
  {
   "cell_type": "code",
   "execution_count": 9,
   "id": "d34c9227-eb2b-40c3-aefe-c6f3a278dc76",
   "metadata": {},
   "outputs": [],
   "source": [
    "#As a change we will calculate subclass level averages\n",
    "#clusters = np.unique(cell['subclass'])\n",
    "#clusters = np.unique(cell.cluster)\n",
    "clusters = np.unique(cell['supertype'])"
   ]
  },
  {
   "cell_type": "code",
   "execution_count": 14,
   "id": "dfa85739-edf6-4f7f-9942-cbee0760c7dc",
   "metadata": {},
   "outputs": [],
   "source": [
    "#Full gene set\n",
    "rpath = metadata['gene']['files']['csv']['relative_path']\n",
    "file = os.path.join( download_base, rpath)\n",
    "genes = pd.read_csv(file,dtype={\"comment\":str})\n",
    "genes.set_index('gene_identifier',inplace=True)"
   ]
  },
  {
   "cell_type": "code",
   "execution_count": 15,
   "id": "2ccef1c6-5f5e-4fdc-af5f-1867c2571556",
   "metadata": {},
   "outputs": [],
   "source": [
    "# Removing columns 'Column1' and 'Column2'\n",
    "columns_to_remove = ['cell_barcode', 'barcoded_cell_sample_label', 'library_label',\n",
    "       'feature_matrix_label', 'entity', 'brain_section_label',\n",
    "       'library_method', 'region_of_interest_acronym', 'donor_label',\n",
    "       'donor_genotype', 'donor_sex', 'dataset_label', 'x', 'y',\n",
    "       'cluster_alias', 'neurotransmitter',\n",
    "       'cluster', 'neurotransmitter_color', 'class_color', 'subclass_color',\n",
    "       'supertype_color', 'cluster_color', 'region_of_interest_order',\n",
    "       'region_of_interest_color']\n",
    "cell = cell.drop(columns=columns_to_remove)"
   ]
  },
  {
   "cell_type": "code",
   "execution_count": 17,
   "id": "0b4f1e54-593e-4cf5-acbc-5ac733e7b95e",
   "metadata": {},
   "outputs": [
    {
     "data": {
      "text/html": [
       "<div>\n",
       "<style scoped>\n",
       "    .dataframe tbody tr th:only-of-type {\n",
       "        vertical-align: middle;\n",
       "    }\n",
       "\n",
       "    .dataframe tbody tr th {\n",
       "        vertical-align: top;\n",
       "    }\n",
       "\n",
       "    .dataframe thead th {\n",
       "        text-align: right;\n",
       "    }\n",
       "</style>\n",
       "<table border=\"1\" class=\"dataframe\">\n",
       "  <thead>\n",
       "    <tr style=\"text-align: right;\">\n",
       "      <th></th>\n",
       "      <th>class</th>\n",
       "      <th>subclass</th>\n",
       "      <th>supertype</th>\n",
       "    </tr>\n",
       "    <tr>\n",
       "      <th>cell_label</th>\n",
       "      <th></th>\n",
       "      <th></th>\n",
       "      <th></th>\n",
       "    </tr>\n",
       "  </thead>\n",
       "  <tbody>\n",
       "    <tr>\n",
       "      <th>GCGAGAAGTTAAGGGC-410_B05</th>\n",
       "      <td>01 IT-ET Glut</td>\n",
       "      <td>018 L2 IT PPP-APr Glut</td>\n",
       "      <td>0082 L2 IT PPP-APr Glut_3</td>\n",
       "    </tr>\n",
       "  </tbody>\n",
       "</table>\n",
       "</div>"
      ],
      "text/plain": [
       "                                  class                subclass  \\\n",
       "cell_label                                                        \n",
       "GCGAGAAGTTAAGGGC-410_B05  01 IT-ET Glut  018 L2 IT PPP-APr Glut   \n",
       "\n",
       "                                          supertype  \n",
       "cell_label                                           \n",
       "GCGAGAAGTTAAGGGC-410_B05  0082 L2 IT PPP-APr Glut_3  "
      ]
     },
     "execution_count": 17,
     "metadata": {},
     "output_type": "execute_result"
    }
   ],
   "source": [
    "cell.head(1)"
   ]
  },
  {
   "cell_type": "code",
   "execution_count": 18,
   "id": "901b002d-f734-41ce-9405-85a2ac69f8b4",
   "metadata": {
    "tags": []
   },
   "outputs": [],
   "source": [
    "items_list = []\n",
    "for cluster in clusters[:]:\n",
    "        # Initialize gdata as an empty DataFrame\n",
    "        items_list.append([ cluster , len(cell[cell['supertype'] == cluster]) ])\n",
    "        \n",
    "        #print(f\"matrix size for {cluster} is: {cdata}\", flush=True)\n",
    "\n",
    "# Create a DataFrame from the list of items\n",
    "df = pd.DataFrame(items_list, columns=['Cluster', 'Size'])\n",
    "\n"
   ]
  },
  {
   "cell_type": "code",
   "execution_count": 19,
   "id": "3ff35f7c-b917-4828-bf0e-62ca05d84bc9",
   "metadata": {},
   "outputs": [],
   "source": [
    "df = df.sort_values(by='Size', ascending=False)\n"
   ]
  },
  {
   "cell_type": "code",
   "execution_count": 20,
   "id": "15adc995-971f-4059-a0d3-1e447a213d92",
   "metadata": {},
   "outputs": [
    {
     "data": {
      "text/html": [
       "<div>\n",
       "<style scoped>\n",
       "    .dataframe tbody tr th:only-of-type {\n",
       "        vertical-align: middle;\n",
       "    }\n",
       "\n",
       "    .dataframe tbody tr th {\n",
       "        vertical-align: top;\n",
       "    }\n",
       "\n",
       "    .dataframe thead th {\n",
       "        text-align: right;\n",
       "    }\n",
       "</style>\n",
       "<table border=\"1\" class=\"dataframe\">\n",
       "  <thead>\n",
       "    <tr style=\"text-align: right;\">\n",
       "      <th></th>\n",
       "      <th>Cluster</th>\n",
       "      <th>Size</th>\n",
       "    </tr>\n",
       "  </thead>\n",
       "  <tbody>\n",
       "    <tr>\n",
       "      <th>1183</th>\n",
       "      <td>1184 MOL NN_4</td>\n",
       "      <td>395554</td>\n",
       "    </tr>\n",
       "    <tr>\n",
       "      <th>1162</th>\n",
       "      <td>1163 Astro-TE NN_3</td>\n",
       "      <td>146806</td>\n",
       "    </tr>\n",
       "    <tr>\n",
       "      <th>1159</th>\n",
       "      <td>1160 Astro-NT NN_2</td>\n",
       "      <td>139205</td>\n",
       "    </tr>\n",
       "    <tr>\n",
       "      <th>29</th>\n",
       "      <td>0030 L2/3 IT CTX Glut_2</td>\n",
       "      <td>128897</td>\n",
       "    </tr>\n",
       "    <tr>\n",
       "      <th>1178</th>\n",
       "      <td>1179 OPC NN_1</td>\n",
       "      <td>121667</td>\n",
       "    </tr>\n",
       "    <tr>\n",
       "      <th>1154</th>\n",
       "      <td>1155 CB Granule Glut_2</td>\n",
       "      <td>116129</td>\n",
       "    </tr>\n",
       "    <tr>\n",
       "      <th>27</th>\n",
       "      <td>0028 L4/5 IT CTX Glut_6</td>\n",
       "      <td>90911</td>\n",
       "    </tr>\n",
       "    <tr>\n",
       "      <th>1192</th>\n",
       "      <td>1193 Endo NN_1</td>\n",
       "      <td>88011</td>\n",
       "    </tr>\n",
       "    <tr>\n",
       "      <th>1193</th>\n",
       "      <td>1194 Microglia NN_1</td>\n",
       "      <td>86232</td>\n",
       "    </tr>\n",
       "    <tr>\n",
       "      <th>22</th>\n",
       "      <td>0023 L4/5 IT CTX Glut_1</td>\n",
       "      <td>85830</td>\n",
       "    </tr>\n",
       "    <tr>\n",
       "      <th>23</th>\n",
       "      <td>0024 L4/5 IT CTX Glut_2</td>\n",
       "      <td>80792</td>\n",
       "    </tr>\n",
       "    <tr>\n",
       "      <th>26</th>\n",
       "      <td>0027 L4/5 IT CTX Glut_5</td>\n",
       "      <td>76805</td>\n",
       "    </tr>\n",
       "    <tr>\n",
       "      <th>113</th>\n",
       "      <td>0114 L6 CT CTX Glut_1</td>\n",
       "      <td>76047</td>\n",
       "    </tr>\n",
       "    <tr>\n",
       "      <th>136</th>\n",
       "      <td>0137 DG Glut_2</td>\n",
       "      <td>74950</td>\n",
       "    </tr>\n",
       "    <tr>\n",
       "      <th>114</th>\n",
       "      <td>0115 L6 CT CTX Glut_2</td>\n",
       "      <td>68930</td>\n",
       "    </tr>\n",
       "    <tr>\n",
       "      <th>13</th>\n",
       "      <td>0014 L6 IT CTX Glut_2</td>\n",
       "      <td>48729</td>\n",
       "    </tr>\n",
       "    <tr>\n",
       "      <th>198</th>\n",
       "      <td>0199 Lamp5 Gaba_1</td>\n",
       "      <td>41362</td>\n",
       "    </tr>\n",
       "    <tr>\n",
       "      <th>149</th>\n",
       "      <td>0150 OB-in Frmd7 Gaba_1</td>\n",
       "      <td>38299</td>\n",
       "    </tr>\n",
       "    <tr>\n",
       "      <th>117</th>\n",
       "      <td>0118 L6 CT CTX Glut_5</td>\n",
       "      <td>35459</td>\n",
       "    </tr>\n",
       "    <tr>\n",
       "      <th>150</th>\n",
       "      <td>0151 OB-in Frmd7 Gaba_2</td>\n",
       "      <td>34048</td>\n",
       "    </tr>\n",
       "  </tbody>\n",
       "</table>\n",
       "</div>"
      ],
      "text/plain": [
       "                      Cluster    Size\n",
       "1183            1184 MOL NN_4  395554\n",
       "1162       1163 Astro-TE NN_3  146806\n",
       "1159       1160 Astro-NT NN_2  139205\n",
       "29    0030 L2/3 IT CTX Glut_2  128897\n",
       "1178            1179 OPC NN_1  121667\n",
       "1154   1155 CB Granule Glut_2  116129\n",
       "27    0028 L4/5 IT CTX Glut_6   90911\n",
       "1192           1193 Endo NN_1   88011\n",
       "1193      1194 Microglia NN_1   86232\n",
       "22    0023 L4/5 IT CTX Glut_1   85830\n",
       "23    0024 L4/5 IT CTX Glut_2   80792\n",
       "26    0027 L4/5 IT CTX Glut_5   76805\n",
       "113     0114 L6 CT CTX Glut_1   76047\n",
       "136            0137 DG Glut_2   74950\n",
       "114     0115 L6 CT CTX Glut_2   68930\n",
       "13      0014 L6 IT CTX Glut_2   48729\n",
       "198         0199 Lamp5 Gaba_1   41362\n",
       "149   0150 OB-in Frmd7 Gaba_1   38299\n",
       "117     0118 L6 CT CTX Glut_5   35459\n",
       "150   0151 OB-in Frmd7 Gaba_2   34048"
      ]
     },
     "execution_count": 20,
     "metadata": {},
     "output_type": "execute_result"
    }
   ],
   "source": [
    "#the code seem to break if Size is bigger than (122605)\n",
    "df.head(20)"
   ]
  },
  {
   "cell_type": "markdown",
   "id": "6b94b3c9-8936-44f4-b7db-a57861c3de09",
   "metadata": {},
   "source": [
    "## Generate list of numbers"
   ]
  },
  {
   "cell_type": "code",
   "execution_count": 14,
   "id": "f2d5e162-c469-4352-8cfe-69cbb27100fc",
   "metadata": {},
   "outputs": [
    {
     "name": "stdout",
     "output_type": "stream",
     "text": [
      "9 19 29 39 49 59 69 79 89 99 109 119 129 139 149 159 169 179 189 199 209 219 229 239 249 259 269 279 289 299 309 319 329 339 349 359 369 379 389 399 409 419 429 439 449 459 469 479 489 499 509 519 529 539 549 559 569 579 589 599 609 619 629 639 649 659 669 679 689 699 709 719 729 739 749 759 769 779 789 799 809 819 829 839 849 859 869 879 889 899 909 919 929 939 949 959 969 979 989 999 1009 1019 1029 1039 1049 1059 1069 1079 1089 1099 1109 1119 1129 1139 1149 1159 1169 1179 1189 1199 "
     ]
    }
   ],
   "source": [
    "for i in range(9, len(clusters), 10):\n",
    "    print(i, end=\" \")"
   ]
  },
  {
   "cell_type": "code",
   "execution_count": 11,
   "id": "7ef6a4a9-ce9c-43e2-b0c1-93913659d6d3",
   "metadata": {},
   "outputs": [
    {
     "data": {
      "text/plain": [
       "1201"
      ]
     },
     "execution_count": 11,
     "metadata": {},
     "output_type": "execute_result"
    }
   ],
   "source": [
    "len(clusters)"
   ]
  },
  {
   "cell_type": "code",
   "execution_count": null,
   "id": "331ed5f7-6412-4b27-8e4c-5d9102e26de6",
   "metadata": {},
   "outputs": [],
   "source": []
  }
 ],
 "metadata": {
  "kernelspec": {
   "display_name": "Environment (cell2loc_env)",
   "language": "python",
   "name": "cell2loc_env"
  },
  "language_info": {
   "codemirror_mode": {
    "name": "ipython",
    "version": 3
   },
   "file_extension": ".py",
   "mimetype": "text/x-python",
   "name": "python",
   "nbconvert_exporter": "python",
   "pygments_lexer": "ipython3",
   "version": "3.9.7"
  }
 },
 "nbformat": 4,
 "nbformat_minor": 5
}
