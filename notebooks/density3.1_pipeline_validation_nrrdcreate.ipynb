{
 "cells": [
  {
   "cell_type": "code",
   "execution_count": 31,
   "id": "555c4335-ed70-4d50-b8c7-dd93841f35ce",
   "metadata": {},
   "outputs": [],
   "source": [
    "import nrrd\n",
    "import pandas as pd\n",
    "import numpy as np\n",
    "from voxcell import RegionMap\n",
    "import re\n",
    "import multiprocessing as mp\n",
    "\n",
    "\n",
    "import sys\n",
    "sys.path.append('/gpfs/bbp.cscs.ch/data/project/proj84/csaba/aibs_10x_mouse_wholebrain/notebooks/scripts/')\n",
    "\n",
    "from helper_functions import get_all_filenames, get_csv_filenames, extract_prefix_from_filenames\n",
    "from helper_functions import read_and_test_csv_files\n",
    "from helper_functions import read_and_concat_csv_files_new, combine_rows_and_calculate_average, create_combined_dataframe"
   ]
  },
  {
   "cell_type": "markdown",
   "id": "1546bdb9-37ed-4dd7-9b6c-bf8fd4af6d47",
   "metadata": {},
   "source": [
    "# Create NRRD files for: \n",
    "In order to run Blue Brain's current validation script, we require computed nrrd files for certain cell groups. It is **critical** to create the nrrd files with the template you use for comparison. E.g.: vanilla CCFv3 will give slightly different densities than CCFv3_0 and quite different than CCFv3a since that has extra brain regions in the OLF bulb and the Cerebellum, Medulla. In other words: ```brain_regions = '/gpfs/bbp.cscs.ch/data/project/proj84/piluso/share/general/warped_augmented_CCFv3/annotation_25_2022_CCFv3_0.nrrd' ``` should be the same in both parts of the code. \n",
    "\n",
    "- total cell, total neuron, total glia, total sum of inhibitory + excitatory neuron densities, total excitatory neuron density, total inhibitory neuron densities, total sum of glia density subtypes, total astrocyte densities, \n",
    "total microglia densities, total oligodendrocyte density\n",
    "- total sst densities, total pv densities, total vip density, total rest_inhib density\n",
    "- fiber tracks + grooves + ventricular_system where no neuron should be found\n",
    "\n",
    "**Cell types that don't fit in the current pipeline:**\n",
    "CHOR, choroid plexus Endo, endothelial cells SMC, smooth muscle cells VLMC, vascular leptomeningeal cells ABC, arachnoid barrier cells BAM, border-associated macrophages Ependymal, hypendymal cells, tanycytes, Astroependymal\n",
    "\n",
    "- **Astrocytes** (5): Astro-OLF, Astro-TE (for telencephalon), Astro-NT (for non-telencephalon), Astro-CB and Bergmann glia\n",
    "- **Oligos or OPC–Oligo** (4): oligodendrocyte precursors (COP), newly formed oligodendrocytes (NFOL), myelin-forming oligodendrocytes (MFOL), and mature oligodendrocytes (MOL)\n",
    "- **OEC** class corresponds to olfactory ensheathing cells (OEC)\n",
    "- **Vascular class** (5): arachnoid barrier cells (ABC), vascular leptomeningeal cells (VLMC), pericytes (Peri), smooth muscle cells (SMC) and endothelial cells (Endo)\n",
    "- **Immune** (5): __microglia__, border-associated macrophages (BAM), monocytes, dendritic cells (DC) and lymphoid cells (which contains B cells, T cells, natural killer (NK) cells and innate lymphoid cells (ILC))"
   ]
  },
  {
   "cell_type": "code",
   "execution_count": 2,
   "id": "56e9dc33-fc30-4348-906c-6fb73cd65a20",
   "metadata": {},
   "outputs": [],
   "source": [
    "#Read CCFv3 annotation volumes (choose 1)\n",
    "# data_folder = \"/gpfs/bbp.cscs.ch/project/proj84/piluso/share/general/warped_augmented_CCFv3/\"\n",
    "# CCFv3_0, _ = nrrd.read(f'{data_folder}annotation_25_2022_CCFv3_0.nrrd')\n",
    "\n",
    "# data_folder = \"/gpfs/bbp.cscs.ch/data/project/proj62/csaba/atlas/bbp_prod_files/2022/\"\n",
    "# CCFv3_0, _ = nrrd.read(f'{data_folder}annotation_25.nrrd')\n",
    "\n",
    "data_folder = \"/gpfs/bbp.cscs.ch/project/proj84/piluso/share/general/warped_augmented_CCFv3/\"\n",
    "CCFv3_0, _ = nrrd.read(f'{data_folder}annotation_25_2022_CCFv3a.nrrd')\n",
    "\n",
    "# CCFv3_0, _ = nrrd.read(\"/gpfs/bbp.cscs.ch/data/project/proj84/atlas_pipeline_runs/2024-05-15T22:44:26+02:00/annotation_ccfv3_l23split_barrelsplit_validated.nrrd\")\n",
    "\n",
    "# Create float copy of the annotation voluem, update values in CCFv3_0 based on conditions\n",
    "CCFv3_0_copy = np.copy(CCFv3_0).astype('float64')"
   ]
  },
  {
   "cell_type": "code",
   "execution_count": 3,
   "id": "f66a9af1-f56b-4c03-b5e5-b9e612d16de3",
   "metadata": {},
   "outputs": [
    {
     "name": "stderr",
     "output_type": "stream",
     "text": [
      "/gpfs/bbp.cscs.ch/data/project/proj62/csaba/env/cell2loc_env/lib/python3.9/site-packages/IPython/core/interactiveshell.py:3444: DtypeWarning: Columns (16) have mixed types.Specify dtype option on import or set low_memory=False.\n",
      "  exec(code_obj, self.user_global_ns, self.user_ns)\n"
     ]
    }
   ],
   "source": [
    "meta_path = \"/gpfs/bbp.cscs.ch/data/project/proj84/csaba/aibs_10x_mouse_wholebrain/metadata/WMB-10X/20231215/views/cell_metadata_with_cluster_annotation.csv\"\n",
    "metadata = pd.read_csv(meta_path, dtype={'cell_label':str})\n",
    "metadata = metadata[['class', 'subclass', 'cluster']]\n",
    "\n",
    "n_classes = ['01 IT-ET Glut', '02 NP-CT-L6b Glut', '03 OB-CR Glut',\n",
    "       '04 DG-IMN Glut', '05 OB-IMN GABA', '06 CTX-CGE GABA',\n",
    "       '07 CTX-MGE GABA', '08 CNU-MGE GABA', '09 CNU-LGE GABA',\n",
    "       '10 LSX GABA', '11 CNU-HYa GABA', '12 HY GABA', '13 CNU-HYa Glut',\n",
    "       '14 HY Glut', '15 HY Gnrh1 Glut', '16 HY MM Glut', '17 MH-LH Glut',\n",
    "       '18 TH Glut', '19 MB Glut', '20 MB GABA', '21 MB Dopa',\n",
    "       '22 MB-HB Sero', '23 P Glut', '24 MY Glut', '25 Pineal Glut',\n",
    "       '26 P GABA', '27 MY GABA', '28 CB GABA', '29 CB Glut',]\n",
    "\n",
    "nn_classes = ['30 Astro-Epen', '31 OPC-Oligo', '32 OEC', '33 Vascular',\n",
    "       '34 Immune']\n",
    "\n",
    "exc = ['01 IT-ET Glut', '02 NP-CT-L6b Glut', '03 OB-CR Glut',\n",
    "      '04 DG-IMN Glut', '13 CNU-HYa Glut', '14 HY Glut', '15 HY Gnrh1 Glut', '16 HY MM Glut', '17 MH-LH Glut',\n",
    "      '18 TH Glut', '19 MB Glut', '23 P Glut', '24 MY Glut', '25 Pineal Glut', '29 CB Glut',]\n",
    "inh = ['05 OB-IMN GABA', '06 CTX-CGE GABA', '07 CTX-MGE GABA', '08 CNU-MGE GABA', '09 CNU-LGE GABA',\n",
    "      '10 LSX GABA', '11 CNU-HYa GABA', '12 HY GABA', '20 MB GABA', '26 P GABA', '27 MY GABA', '28 CB GABA', ]\n",
    "other = ['21 MB Dopa', '22 MB-HB Sero', ]\n",
    "exci_inhib_sum = exc + inh\n",
    "\n",
    "astrotypes = ['5206 Bergmann NN_1', '5207 Astro-CB NN_1', '5208 Astro-NT NN_1',\n",
    "       '5209 Astro-NT NN_1', '5210 Astro-NT NN_1', '5211 Astro-NT NN_1',\n",
    "       '5212 Astro-NT NN_1', '5213 Astro-NT NN_1', '5214 Astro-NT NN_2',\n",
    "       '5215 Astro-NT NN_2', '5216 Astro-NT NN_2', '5217 Astro-NT NN_2',\n",
    "       '5218 Astro-TE NN_1', '5219 Astro-TE NN_1', '5220 Astro-TE NN_1',\n",
    "       '5221 Astro-TE NN_1', '5222 Astro-TE NN_2', '5223 Astro-TE NN_2',\n",
    "       '5224 Astro-TE NN_3', '5225 Astro-TE NN_3', '5226 Astro-TE NN_3',\n",
    "       '5227 Astro-TE NN_3', '5228 Astro-TE NN_4', '5229 Astro-TE NN_5',\n",
    "       '5230 Astro-TE NN_5', '5231 Astro-OLF NN_1', '5232 Astro-OLF NN_1',\n",
    "       '5233 Astro-OLF NN_2', '5234 Astro-OLF NN_2',\n",
    "       '5235 Astro-OLF NN_3', '5236 Astro-OLF NN_3',]\n",
    "\n",
    "microglia = ['5312 Microglia NN_1']\n",
    "\n",
    "oligos = [ '5266 OPC NN_1', '5267 OPC NN_1',\n",
    "       '5268 OPC NN_1', '5269 OPC NN_1', '5270 OPC NN_1', '5271 OPC NN_2',\n",
    "       '5272 COP NN_1', '5273 COP NN_1', '5274 COP NN_1', '5275 COP NN_1',\n",
    "       '5276 COP NN_1', '5277 COP NN_1', '5278 NFOL NN_2',\n",
    "       '5279 NFOL NN_2', '5280 NFOL NN_2', '5281 NFOL NN_2',\n",
    "       '5282 MFOL NN_3', '5283 MFOL NN_3', '5284 MOL NN_4',\n",
    "       '5285 MOL NN_4', '5286 MOL NN_4', '5287 MOL NN_4', '5288 MOL NN_4',]\n",
    "\n",
    "glia = astrotypes + microglia + oligos\n",
    "\n",
    "neurontypes = np.unique(metadata[metadata['class'].isin(n_classes)]['cluster'].values)\n",
    "nonneurontypes = np.unique(metadata[metadata['class'].isin(nn_classes)]['cluster'].values)\n",
    "exctypes = np.unique(metadata[metadata['class'].isin(exc)]['cluster'].values)\n",
    "inhtypes = np.unique(metadata[metadata['class'].isin(inh)]['cluster'].values)\n",
    "othertypes = np.unique(metadata[metadata['class'].isin(other)]['cluster'].values)\n",
    "exci_inhib_sum = np.unique(metadata[metadata['class'].isin(exci_inhib_sum)]['cluster'].values)\n",
    "celltypes = np.unique(metadata['cluster'].values)"
   ]
  },
  {
   "cell_type": "code",
   "execution_count": 4,
   "id": "8077355e-60d5-4f34-9fe0-b3f711ee1a78",
   "metadata": {},
   "outputs": [],
   "source": [
    "file = '/gpfs/bbp.cscs.ch/data/project/proj84/csaba/aibs_10x_mouse_wholebrain/metadata/parcellation_to_parcellation_term_membership_extend.csv'\n",
    "parcellation_annotation = pd.read_csv(file)\n",
    "\n",
    "#instead: here we just filter for all substructures in the df\n",
    "substructures = parcellation_annotation[parcellation_annotation['parcellation_term_set_name'] == 'substructure']"
   ]
  },
  {
   "cell_type": "code",
   "execution_count": 6,
   "id": "05bb24bf-2660-497d-9e2d-a5d2da05c6d7",
   "metadata": {},
   "outputs": [],
   "source": [
    "root_folder = '/gpfs/bbp.cscs.ch/data/project/proj84/csaba/aibs_10x_mouse_wholebrain/results/density_calculations/'"
   ]
  },
  {
   "cell_type": "code",
   "execution_count": 7,
   "id": "872bddf3-32a2-4330-a1a6-e9609eb26f38",
   "metadata": {},
   "outputs": [
    {
     "name": "stdout",
     "output_type": "stream",
     "text": [
      "703 703 703\n",
      "If there are no print messages before this, all DataFrames / csv files contains cells and densities\n"
     ]
    }
   ],
   "source": [
    "#Load all csv files with densities\n",
    "folder_path = f'{root_folder}csv/'\n",
    "filenames = get_all_filenames(folder_path)\n",
    "csv_filenames = get_csv_filenames(folder_path)\n",
    "prefixes = extract_prefix_from_filenames(csv_filenames)\n",
    "unique_prefixes = sorted(list(set(prefixes)))\n",
    "print(len(csv_filenames), len(prefixes), len(unique_prefixes), )\n",
    "read_and_test_csv_files(csv_filenames, unique_prefixes, folder_path)"
   ]
  },
  {
   "cell_type": "code",
   "execution_count": 8,
   "id": "e168ae13-7e44-4138-83e0-f8089466cbca",
   "metadata": {
    "scrolled": true
   },
   "outputs": [
    {
     "name": "stdout",
     "output_type": "stream",
     "text": [
      "fa corpus callosum, anterior forceps 2  region is ambiguous!\n",
      "icp inferior cerebellar peduncle 2  region is ambiguous!\n",
      "sV sensory root of the trigeminal nerve 2  region is ambiguous!\n",
      "scp superior cerebelar peduncles 4  region is ambiguous!\n",
      "st stria terminalis 2  region is ambiguous!\n"
     ]
    }
   ],
   "source": [
    "for pref in unique_prefixes:\n",
    "    region_info = substructures[substructures['cluster_as_filename'] == pref]\n",
    "    if region_info.shape[0] != 1:\n",
    "        if region_info.shape[0] == 0:\n",
    "            print(pref , \" region was not found among substructures!\", flush=True)\n",
    "        else:\n",
    "            print(pref , region_info.parcellation_term_name.values[0], region_info.shape[0], \" region is ambiguous!\", flush=True)"
   ]
  },
  {
   "cell_type": "markdown",
   "id": "559fdb40-6969-4d17-96e3-58fd3b5bcaad",
   "metadata": {},
   "source": [
    "### continute\n",
    "- The next cell will list unique leaf regions introduced by Sebastien. Vanilla CCFV3 show anything. "
   ]
  },
  {
   "cell_type": "code",
   "execution_count": 9,
   "id": "450f6a3f-1b0d-419d-8941-e4a149b4f0d2",
   "metadata": {},
   "outputs": [],
   "source": [
    "#region_map_path ='/gpfs/bbp.cscs.ch/project/proj62/csaba/atlas/bbp_prod_files/1.json'\n",
    "region_map_path ='/gpfs/bbp.cscs.ch/data/project/proj84/atlas_pipeline_runs/2024-05-15T22:44:26+02:00/hierarchy_ccfv3_l23split_barrelsplit.json'\n",
    "region_map = RegionMap.load_json(region_map_path)\n",
    "\n",
    "all_leaves = np.unique(CCFv3_0)\n",
    "missing_leaves = []\n",
    "for leaf in all_leaves:\n",
    "    annotation_id_info = substructures[substructures['label_numbers']== leaf]\n",
    "    if annotation_id_info.shape[0] == 0:\n",
    "        name = region_map.get(leaf, \"name\", with_ascendants=False)\n",
    "        print(leaf, name, \" region was not found among substructures!\", flush=True)\n",
    "        missing_leaves.append(leaf)\n",
    "    elif annotation_id_info.shape[0] == 1:\n",
    "        None\n",
    "    else:\n",
    "        print(regionname, annotation_id_info.shape[0], \"interesting\", flush=True)"
   ]
  },
  {
   "cell_type": "code",
   "execution_count": 10,
   "id": "e28f8167-7543-4469-9eb2-d3eee04c1bda",
   "metadata": {},
   "outputs": [
    {
     "name": "stdout",
     "output_type": "stream",
     "text": [
      "CPU times: user 43.2 s, sys: 57.1 ms, total: 43.3 s\n",
      "Wall time: 43.3 s\n"
     ]
    }
   ],
   "source": [
    "%%time\n",
    "#Create a dict of df, each containing a cell type's occurence in all regions and its densities in all regions\n",
    "result_dataframes = read_and_concat_csv_files_new(csv_filenames, unique_prefixes, folder_path) #[region]celltypes\n",
    "combined_result_dataframes = combine_rows_and_calculate_average(result_dataframes)\n",
    "shuffled_combined_dataframes = create_combined_dataframe(combined_result_dataframes) #[celltypes]region\n"
   ]
  },
  {
   "cell_type": "markdown",
   "id": "0e90c502-4f6c-4b35-bb7a-e0d5463d3735",
   "metadata": {},
   "source": [
    "- neuron = 'all neuron types densities'\n",
    "- nonneuron = 'all non neuron densities'\n",
    "- exc, inh\n",
    "- glia = astro + oligo + micro"
   ]
  },
  {
   "cell_type": "code",
   "execution_count": 11,
   "id": "238e8adb-0431-430e-84ec-2982debc4e06",
   "metadata": {},
   "outputs": [],
   "source": [
    "def nrrd_for_validation(df, parcellation_annotation, CCFv3_0):\n",
    "    all_ids_for_df = []\n",
    "    df_comb = pd.DataFrame()\n",
    "\n",
    "    for regionname in df.index.values[0:]:\n",
    "        density = df.loc[regionname][0]\n",
    "        #annotation_id_info = substructures[substructures['cluster_as_filename'] == regionname]\n",
    "        annotation_id_info = parcellation_annotation[parcellation_annotation['cluster_as_filename'] == regionname]\n",
    "\n",
    "        Annotation2020ids = [int(re.search(r'\\d+$', s).group()) for s in annotation_id_info['parcellation_label'].values]\n",
    "        df_sub = pd.DataFrame({'density': density}, index=Annotation2020ids)\n",
    "        df_comb = pd.concat([df_comb, df_sub])\n",
    "        all_ids_for_df.append(Annotation2020ids)\n",
    "\n",
    "    all_ids_for_df = [value for sublist in all_ids_for_df for value in sublist]\n",
    "    all_ids_for_df.append(0)\n",
    "    #Place to put extra regions not part of Allen's Parcellation annotation\n",
    "\n",
    "    outside = 0\n",
    "    outsideid = [0]\n",
    "    df_sub = pd.DataFrame({'density': outside}, index=outsideid)\n",
    "    df_comb = pd.concat([df_comb, df_sub])\n",
    "\n",
    "    CCFv3_0_copy = CCFv3_0.copy()\n",
    "\n",
    "    # Expression is 0 in those regions where we don't have any info:\n",
    "    CCFv3_0_copy[~np.isin(CCFv3_0_copy, all_ids_for_df)] = 0.0 \n",
    "\n",
    "    # Expression is non-zero in these leaf region(s)\n",
    "    for index, row in df_comb.iterrows():\n",
    "        density_value = row['density']\n",
    "        region_id = index\n",
    "        CCFv3_0_copy[np.isin(CCFv3_0, region_id)] = density_value\n",
    "\n",
    "    #Create outside of the brain as 0\n",
    "    CCFv3_0_copy[np.isin(CCFv3_0, int(0))] = 0\n",
    "\n",
    "    return CCFv3_0_copy"
   ]
  },
  {
   "cell_type": "markdown",
   "id": "c970555a-fe4f-4f29-a1bc-9a21a84ceeee",
   "metadata": {},
   "source": [
    "One more time, together:"
   ]
  },
  {
   "cell_type": "code",
   "execution_count": 12,
   "id": "a1916961-fa27-4b2d-961a-54a0d558e2cd",
   "metadata": {},
   "outputs": [
    {
     "name": "stdout",
     "output_type": "stream",
     "text": [
      "CPU times: user 1min 15s, sys: 4.93 s, total: 1min 20s\n",
      "Wall time: 9min 15s\n"
     ]
    }
   ],
   "source": [
    "%%time\n",
    "\n",
    "def process_type(types, file_name):\n",
    "    # Filter DataFrames based on types\n",
    "    filtered_dataframes = {key: value for key, value in shuffled_combined_dataframes.items() if key in types}\n",
    "    \n",
    "    # Combine filtered DataFrames\n",
    "    combined_df = pd.concat(filtered_dataframes.values())\n",
    "    \n",
    "    # Sum the combined DataFrame by index\n",
    "    summed_df = combined_df.groupby(combined_df.index).sum()\n",
    "    \n",
    "    # Validate result\n",
    "    result = nrrd_for_validation(summed_df, parcellation_annotation, CCFv3_0)\n",
    "    \n",
    "    # Clean up\n",
    "    del combined_df, summed_df, filtered_dataframes\n",
    "    \n",
    "    return (result, file_name)\n",
    "\n",
    "def main():\n",
    "    # Define the parameters for each process\n",
    "    tasks = [\n",
    "        (neurontypes, \"total_neuron_densities\"),\n",
    "        (nonneurontypes, \"total_nonneuron_densities\"),\n",
    "        (exctypes, \"total_excitatory_densities\"),\n",
    "        (inhtypes, \"total_inhibitory_densities\"),\n",
    "        (astrotypes, \"total_astrotypes_densities\"),\n",
    "        (microglia, \"total_microglia_densities\"),\n",
    "        (oligos, \"total_oligocyte_densities\"),\n",
    "        (glia, \"total_glia_densities\"),\n",
    "        (exci_inhib_sum, \"total_excinh_densities\"),\n",
    "        (celltypes, \"total_celltypes_densities\"),\n",
    "    ]\n",
    "    \n",
    "    # Create a multiprocessing Pool\n",
    "    with mp.Pool(processes=mp.cpu_count()) as pool:\n",
    "        results = pool.starmap(process_type, tasks)\n",
    "    \n",
    "    # Sequentially write the .nrrd files to avoid concurrent writes\n",
    "    for result, file_name in results:\n",
    "        nrrd.write(f\"{root_folder}{file_name}.nrrd\", result)\n",
    "\n",
    "if __name__ == \"__main__\":\n",
    "    main()"
   ]
  },
  {
   "cell_type": "markdown",
   "id": "3fd41587-bf0a-412f-b83b-a046e5eff97a",
   "metadata": {},
   "source": [
    "# Sebastien Validation from here"
   ]
  },
  {
   "cell_type": "code",
   "execution_count": 13,
   "id": "8d06aaf2-03d6-4eff-9806-e89c0b35a08f",
   "metadata": {},
   "outputs": [],
   "source": [
    "import numpy as np\n",
    "from voxcell import VoxelData\n",
    "from voxcell.nexus.voxelbrain import RegionMap\n",
    "from argparse import ArgumentParser\n",
    "import os, sys\n",
    "import warnings\n",
    "import inspect\n"
   ]
  },
  {
   "cell_type": "code",
   "execution_count": 14,
   "id": "6e721a08-c636-4acc-a650-e99a3a9c61a2",
   "metadata": {},
   "outputs": [
    {
     "data": {
      "text/plain": [
       "_StoreAction(option_strings=[], dest='inhibitory_ME_types_transplant_folder', nargs=None, const=None, default=None, type=None, choices=None, help=None, metavar=None)"
      ]
     },
     "execution_count": 14,
     "metadata": {},
     "output_type": "execute_result"
    }
   ],
   "source": [
    "# Parse arguments\n",
    "\n",
    "parser = ArgumentParser()\n",
    "parser.add_argument(\"annotation\")\n",
    "parser.add_argument(\"hierarchy\")\n",
    "parser.add_argument(\"density_folder\")\n",
    "parser.add_argument(\"cell_density\")\n",
    "parser.add_argument(\"inhibitory_density_folder\")\n",
    "parser.add_argument(\"excitatory_ME_types_folder\")\n",
    "parser.add_argument(\"inhibitory_ME_types_folder\")\n",
    "parser.add_argument(\"excitatory_ME_types_transplant_folder\")\n",
    "parser.add_argument(\"inhibitory_ME_types_transplant_folder\")\n"
   ]
  },
  {
   "cell_type": "raw",
   "id": "042c120c-4503-4d93-b334-6d0bf9e25942",
   "metadata": {},
   "source": [
    "args = parser.parse_args()\n",
    "brain_regions = args.annotation\n",
    "hierarchy_json = args.hierarchy\n",
    "density_folder = args.density_folder\n",
    "cell_density = args.cell_density\n",
    "inhibitory_density_folder = args.inhibitory_density_folder\n",
    "excitatroy_ME_types_folder = args.excitatory_ME_types_folder\n",
    "inhibitory_ME_types_folder = args.inhibitory_ME_types_folder\n",
    "excitatory_ME_types_transplant_folder = args.excitatory_ME_types_transplant_folder\n",
    "inhibitory_ME_types_transplant_folder = args.inhibitory_ME_types_transplant_folder\n"
   ]
  },
  {
   "cell_type": "code",
   "execution_count": 15,
   "id": "e4451830-a58d-4337-a647-71ac9c13f9d6",
   "metadata": {},
   "outputs": [],
   "source": [
    "#brain_regions = '/gpfs/bbp.cscs.ch/home/veraszto/bbp_prod_files/2022/annotation_25.nrrd'\n",
    "brain_regions = '/home/piluso/data/00_allen_brain_atlas/ccfv2/annotation_25_ccfv2_combined.nrrd '\n",
    "\n",
    "\n",
    "hierarchy_json = '/gpfs/bbp.cscs.ch/home/veraszto/bbp_prod_files/1.json'\n",
    "#cell_density = '/gpfs/bbp.cscs.ch/home/veraszto/leaves_only/cell_densities_correctednissl/neuron_density.nrrd'\n",
    "cell_density = '/gpfs/bbp.cscs.ch/home/piluso/cell_atlas/03_warped_annotation_fix_last/blue_brain_atlas_pipeline/leaves_only/overall_cell_density_correctednissl_validated.nrrd'\n",
    "#cell_density = '/gpfs/bbp.cscs.ch/data/project/proj84/csaba/aibs_10x_mouse_wholebrain/results/density_calculations/total_celltypes_densities.nrrd'\n",
    "density_folder = '/gpfs/bbp.cscs.ch/data/project/proj84/csaba/aibs_10x_mouse_wholebrain/results/density_calculations/'"
   ]
  },
  {
   "cell_type": "code",
   "execution_count": 16,
   "id": "9dcd0b65-e39a-4dce-8bbc-6dd14f888a0c",
   "metadata": {},
   "outputs": [
    {
     "data": {
      "text/plain": [
       "OrderedDict([('type', 'uint32'),\n",
       "             ('dimension', 3),\n",
       "             ('space', 'left-posterior-superior'),\n",
       "             ('sizes', array([566, 320, 456])),\n",
       "             ('space directions',\n",
       "              array([[25.,  0.,  0.],\n",
       "                     [ 0., 25.,  0.],\n",
       "                     [ 0.,  0., 25.]])),\n",
       "             ('kinds', ['domain', 'domain', 'domain']),\n",
       "             ('endian', 'little'),\n",
       "             ('encoding', 'gzip'),\n",
       "             ('space origin', array([0., 0., 0.]))])"
      ]
     },
     "execution_count": 16,
     "metadata": {},
     "output_type": "execute_result"
    }
   ],
   "source": [
    "_"
   ]
  },
  {
   "cell_type": "markdown",
   "id": "448a4802-f5ae-499d-a8d6-1f59cf4ec4f6",
   "metadata": {
    "tags": []
   },
   "source": [
    "## Literature"
   ]
  },
  {
   "cell_type": "code",
   "execution_count": 17,
   "id": "2e6c115a-07d3-4ae5-8da3-b5cc37a83e6b",
   "metadata": {},
   "outputs": [
    {
     "name": "stdout",
     "output_type": "stream",
     "text": [
      "\n",
      "Region filters setting\n",
      "Done\n"
     ]
    }
   ],
   "source": [
    "print(\"\\nRegion filters setting\")\n",
    "region_map = RegionMap.load_json(hierarchy_json)\n",
    "\n",
    "cerebellum = region_map.find(\n",
    "        \"Cerebellum\", attr=\"name\", with_descendants=True\n",
    "    ) | region_map.find(\"arbor vitae\", attr=\"name\", with_descendants=True)\n",
    "\n",
    "isocortex = (\n",
    "    region_map.find(\"Isocortex\", attr=\"name\", with_descendants=True)\n",
    "    | region_map.find(\"Entorhinal area\", attr=\"name\", with_descendants=True)\n",
    "    | region_map.find(\"Piriform area\", attr=\"name\", with_descendants=True)\n",
    ")\n",
    "fiber_tracts_ids = (\n",
    "    region_map.find(\"fiber tracts\", attr=\"name\", with_descendants=True)\n",
    "    | region_map.find(\"grooves\", attr=\"name\", with_descendants=True)\n",
    "    | region_map.find(\"ventricular systems\", attr=\"name\", with_descendants=True)\n",
    ")\n",
    "hippocampus = (\n",
    "    region_map.find(\"Hippocampal region\", attr=\"name\", with_descendants=True)\n",
    ")\n",
    "hippocampal_formation = (\n",
    "    region_map.find(\"Hippocampal formation\", attr=\"name\", with_descendants=True)\n",
    ")\n",
    "thalamus = (\n",
    "    region_map.find(\"Thalamus\", attr=\"name\", with_descendants=True)\n",
    ")\n",
    "striatum = (\n",
    "    region_map.find(\"Striatum\", attr=\"name\", with_descendants=True)\n",
    ")\n",
    "VPL = (\n",
    "    region_map.find(\"Ventral posterolateral nucleus of the thalamus\", attr=\"name\", with_descendants=True)\n",
    ")\n",
    "LGd = (\n",
    "    region_map.find(\"Dorsal part of the lateral geniculate complex\", attr=\"name\", with_descendants=True)\n",
    ")\n",
    "VPM = (\n",
    "    region_map.find(\"Ventral posteromedial nucleus of the thalamus\", attr=\"name\", with_descendants=True)\n",
    ")\n",
    "MOB = (\n",
    "    region_map.find(\"Main olfactory bulb\", attr=\"name\", with_descendants=True)\n",
    ")\n",
    "\n",
    "if cerebellum == [] or \\\n",
    "isocortex == [] or \\\n",
    "fiber_tracts_ids == [] or \\\n",
    "hippocampus == [] or \\\n",
    "striatum == []:\n",
    "    raise ValueError(\"ERROR: some region filters return empty sets\")\n",
    "\n",
    "print(\"Done\")\n"
   ]
  },
  {
   "cell_type": "code",
   "execution_count": 18,
   "id": "c63d0c25-cb3a-43a7-9872-91cc8376cdf7",
   "metadata": {},
   "outputs": [],
   "source": [
    "annotation = VoxelData.load_nrrd('/gpfs/bbp.cscs.ch/data/project/proj84/piluso/share/general/warped_augmented_CCFv3/annotation_25_2022_CCFv3_0.nrrd').raw"
   ]
  },
  {
   "cell_type": "code",
   "execution_count": 19,
   "id": "b3624a45-1141-40ff-97f6-0d6ce6dcca8d",
   "metadata": {},
   "outputs": [
    {
     "name": "stdout",
     "output_type": "stream",
     "text": [
      "\n",
      "Literature values setting...\n",
      "Done\n"
     ]
    }
   ],
   "source": [
    "# # Literature values and initialization of paramters (to be moved into a configuration file)\n",
    "print(\"\\nLiterature values setting...\")\n",
    "voxel_volume = (25 * 1.0e-3)**3\n",
    "nb_voxels_ccfv2_2011 = 31984720 # 499.8 mm^3\n",
    "nb_voxels_ccfv2_2015 = 31992356 # = 499.9 mm^3\n",
    "nb_voxels_ccfv2_2015_fiber_tracts = 3525860 # = 55.1 mm^3\n",
    "nb_voxels_ccfv2_2015_whithout_fiber_tracts = nb_voxels_ccfv2_2015 - nb_voxels_ccfv2_2015_fiber_tracts # 444.8 mm^3\n",
    "nb_voxels_ccfv3_2015 = 32387385 # = 506.1 mm^3\n",
    "nb_voxels_ccfv3_2022 = 32261391 # = 504.1 mm^3\n",
    "nb_voxels_ccfv3_2022_fiber_tracts = 2980469 # = 46.6 mm^3\n",
    "nb_voxels_ccfv2_2022_whithout_fiber_tracts = nb_voxels_ccfv3_2022 - nb_voxels_ccfv3_2022_fiber_tracts # 457.5 mm^3\n",
    "nb_voxels_ccfv3_2022_augmented = None # Not yet available\n",
    "default_neuron_proportion = 0.16 # Default neuron density tolerance inheritated from total neuron tolerance when no data is available\n",
    "default_glia_proportion = 0.20 # Default glia density tolerance inheritated from total glia tolerance when no data is available\n",
    "default_cell_proportion = 0.18 # Default cell density tolerance inheritated from total cell tolerance when no data is available\n",
    "\n",
    "# Literature values for the whole brain (to be moved into a configuration file)\n",
    "wh_mouse_brain_vol_litt_m = 32570240 # = 508.91 mm^3 in Badea et al., 2007\n",
    "wh_mouse_brain_vol_tolerance_m = 1498880 # = 23.42 mm^3 (5%) in Badea et al., 2007wh_mouse_brain_vol_litt_m = 32570240 # = 508.91 mm^3 in Badea et al., 2007\n",
    "wh_mouse_brain_vol_litt = 508.91 # = 508.91 mm^3 in Badea et al., 2007\n",
    "wh_mouse_brain_vol_tolerance = 23.42 # = 23.42 mm^3 (5%) in Badea et al., 2007\n",
    "neuron_dens_fiber_tracts_litt = 0 # Rodarie et al., 2022\n",
    "neuron_dens_fiber_tracts_tolerance = 0 # Rodarie et al., 2022\n",
    "neuron_dens_litt = 71760000/wh_mouse_brain_vol_litt # = 67,870,000 + 3,890,000 Table 1 in Herculano-Houzel et al., 2011\n",
    "neuron_dens_tolerance = 11660000/wh_mouse_brain_vol_litt # = 10,410,000 + 1,250,000 (16%) Table 1 in Herculano-Houzel et al., 2011\n",
    "glia_dens_litt = 39320000/wh_mouse_brain_vol_litt # = 33,860,000 + 5,460,000 Table 1 in Herculano-Houzel et al., 2011\n",
    "glia_dens_tolerance = 7810000/wh_mouse_brain_vol_litt # = 6,660,000 + 1,150,000 (20%) Table 1 in Herculano-Houzel et al., 2011\n",
    "cell_dens_litt = 111080000/wh_mouse_brain_vol_litt # = 71,760,000 + 39,320,000 Table 1 in Herculano-Houzel et al., 2011 after summing neuron + glia\n",
    "cell_dens_tolerance = 19470000/wh_mouse_brain_vol_litt # = 11,660,000 + 7,810,000 (18%) Table 1 in Herculano-Houzel et al., 2011 after summing neuron + glia\n",
    "astrocyte_dens_litt = None # Not available\n",
    "astrocyte_dens_tolerance = None # Not available\n",
    "microglia_dens_litt = None # Not available\n",
    "microglia_dens_tolerance = None # Not available\n",
    "oligodendrocyte_dens_litt = None # Not available\n",
    "oligodendrocyte_dens_tolerance = None # Not available\n",
    "inhibitory_neuron_dens_litt = 14550000/wh_mouse_brain_vol_litt # Table 3 in Rodarie et al., 2022\n",
    "inhibitory_neuron_dens_tolerance = round(inhibitory_neuron_dens_litt * default_neuron_proportion) # default Not available /!\\\n",
    "excitatory_neurons_dens_litt = None # Not available\n",
    "excitatory_neurons_dens_tolerance = None # Not available\n",
    "pv_dens_litt = 2631372/wh_mouse_brain_vol_litt # = 5916 * 445 in measurements.csv (~17.6% * Inhibitory in Table 3) in Rodarie et al., 2022\n",
    "pv_dens_tolerance = 237072/wh_mouse_brain_vol_litt # = 533 (9%) in measurements.csv in Rodarie et al., 2022\n",
    "sst_dens_litt = 2253658/wh_mouse_brain_vol_litt# = 5067 * 445 (~15.8% * Inhibitory in Table 3) in Rodarie et al., 2022\n",
    "sst_dens_tolerance = 234498/wh_mouse_brain_vol_litt # = 527 (10%) in measurements.csv in Rodarie et al., 2022\n",
    "vip_dens_litt = 434928/wh_mouse_brain_vol_litt # = 978 * 445 (~3.1% * Inhibitory in Table 3) in Rodarie et al., 2022\n",
    "vip_dens_tolerance = 30616/wh_mouse_brain_vol_litt # 69 (7%) in measurements.csv in Rodarie et al., 2022\n",
    "rest_inhi_dens_litt = (inhibitory_neuron_dens_litt - (pv_dens_litt + sst_dens_litt + vip_dens_litt))/wh_mouse_brain_vol_litt # (~63.5% * Inhibitory in Table 3) in Rodarie et al., 2022\n",
    "rest_inhi_dens_tolerance = (inhibitory_neuron_dens_tolerance - (pv_dens_tolerance + sst_dens_tolerance + vip_dens_tolerance))/wh_mouse_brain_vol_litt # Rodarie et al., 2022\n",
    "\n",
    "# Region support in number of voxels\n",
    "isocortex_nb_vox = len(np.where(np.isin(annotation, list(isocortex)) != 0)[0])\n",
    "hippocampus_nb_vox = len(np.where(np.isin(annotation, list(hippocampus)) != 0)[0])\n",
    "striatum_nb_vox = len(np.where(np.isin(annotation, list(striatum)) != 0)[0])\n",
    "thalamus_nb_vox = len(np.where(np.isin(annotation, list(thalamus)) != 0)[0])\n",
    "VPL_nb_vox = len(np.where(np.isin(annotation, list(VPL)) != 0)[0])\n",
    "LGd_nb_vox = len(np.where(np.isin(annotation, list(LGd)) != 0)[0])\n",
    "VPM_nb_vox = len(np.where(np.isin(annotation, list(VPM)) != 0)[0])\n",
    "MOB_nb_vox = len(np.where(np.isin(annotation, list(MOB)) != 0)[0])\n",
    "hippocampal_formation_nb_vox = len(np.where(np.isin(annotation, list(hippocampal_formation)) != 0)[0])\n",
    "\n",
    "# Literature values for sub-regions (to be moved into a configuration file)\n",
    "isocortex_neuron_dens_litt = 2*5048837/(isocortex_nb_vox * voxel_volume) # Table 1 in Herculano_Houzel et al., 2013\n",
    "isocortex_neuron_dens_tolerance = 2*412123/(isocortex_nb_vox * voxel_volume) # Table 1 in Herculano_Houzel et al., 2013\n",
    "isocortex_glia_dens_litt = 2*6640234/(isocortex_nb_vox * voxel_volume) # Table 1 in Herculano_Houzel et al., 2013\n",
    "isocortex_glia_dens_tolerance = 2*244643/(isocortex_nb_vox * voxel_volume) # Table 1 in Herculano_Houzel et al., 2013\n",
    "isocortex_cell_dens_litt = (isocortex_neuron_dens_litt + isocortex_glia_dens_litt) # Table 1 in Herculano_Houzel et al., 2013\n",
    "isocortex_cell_dens_tolerance = (isocortex_neuron_dens_tolerance + isocortex_glia_dens_tolerance) # Table 1 in Herculano_Houzel et al., 2013\n",
    "isocortex_oligo_dens_litt = 12500 # Table 1 in Erö et al., 2018\n",
    "isocortex_oligo_dens_tolerance = round(isocortex_oligo_dens_litt * default_glia_proportion) # default Not available /!\\\n",
    "isocortex_astro_dens_litt = 15696 # Table 1 in Erö et al., 2018\n",
    "isocortex_astro_dens_tolerance = round(isocortex_astro_dens_litt * default_glia_proportion) # default Not available /!\\\n",
    "isocortex_microglia_dens_litt = 6500 # Table 1 in Erö et al., 2018\n",
    "isocortex_microglia_dens_tolerance = round(isocortex_microglia_dens_litt * default_glia_proportion) # default Not available /!\\\n",
    "cerebellum_volume = 59.65 # mm^3 from Table 1 in Zhang et al., 2011\n",
    "cerebellum_volume_torlerance = 3.65 # mm^3 from Table 1 in Zhang et al., 2011\n",
    "cerebellum_neuron_dens_litt = 42220000/cerebellum_volume # Table 1 in Herculano_Houzel et al., 2011\n",
    "cerebellum_neuron_dens_tolerance = 9280000/cerebellum_volume # Table 1 in Herculano_Houzel et al., 2011\n",
    "cerebellum_glia_dens_litt = 6950000/cerebellum_volume # Table 1 in Herculano_Houzel et al., 2011\n",
    "cerebellum_glia_dens_tolerance = 1500000/cerebellum_volume # Table 1 in Herculano_Houzel et al., 2011\n",
    "cerebellum_cell_dens_litt = (cerebellum_neuron_dens_litt + cerebellum_glia_dens_litt) # Table 1 in Herculano_Houzel et al., 2011\n",
    "cerebellum_cell_dens_tolerance = (cerebellum_neuron_dens_tolerance + cerebellum_glia_dens_tolerance) # Table 1 in Herculano_Houzel et al., 2011\n",
    "cerebellum_oligo_dens_litt = 13750 # = Table 1 in Erö et al., 2018\n",
    "cerebellum_oligo_dens_tolerance = 1768 # Table 1 in Erö et al., 2018\n",
    "cerebellum_astro_dens_litt = 1512 # Table 1 in Erö et al., 2018\n",
    "cerebellum_astro_dens_tolerance = round(cerebellum_astro_dens_litt * default_glia_proportion) # default Not available /!\\\n",
    "cerebellum_microglia_dens_litt = 8624 # Table 1 in Erö et al., 2018\n",
    "cerebellum_microglia_dens_tolerance = 659 # Table 1 in Erö et al., 2018\n",
    "hippocampus_neuron_dens_litt = 20848 # from Table 3 in Keller et al., 2018\n",
    "hippocampus_neuron_dens_tolerance = hippocampus_neuron_dens_litt * default_neuron_proportion # default Not available /!\\\n",
    "hippocampus_oligo_dens_litt = 9425 # Table 1 in Erö et al., 2018\n",
    "hippocampus_oligo_dens_tolerance = round(hippocampus_oligo_dens_litt * default_glia_proportion) # default Not available /!\\\n",
    "hippocampus_astro_dens_litt = 16737 # Table 1 in Erö et al., 2018\n",
    "hippocampus_astro_dens_tolerance = 10496 # Table 1 in Erö et al., 2018\n",
    "hippocampus_microglia_dens_litt = 3248 # Table 1 in Erö et al., 2018\n",
    "hippocampus_microglia_dens_tolerance = 1563 # Table 1 in Erö et al., 2018\n",
    "# striatum_neuron_dens_litt = 802679/(striatum_nb_vox * voxel_volume)  # Andsberg et al., 2001\n",
    "# striatum_neuron_dens_tolerance = 31665/(striatum_nb_vox * voxel_volume)# Andsberg et al., 2001\n",
    "striatum_neuron_dens_litt = 120110 # from Table 5 in Keller et al., 2018\n",
    "striatum_neuron_dens_tolerance = 31800 # from Table 5 in Keller et al., 2018\n",
    "striatum_oligo_dens_litt = 9950 # Table 1 in Erö et al., 2018\n",
    "striatum_oligo_dens_tolerance = 4036 # Table 1 in Erö et al., 2018\n",
    "striatum_astro_dens_litt = 9867 # Table 1 in Erö et al., 2018\n",
    "striatum_astro_dens_tolerance = 5547 # Table 1 in Erö et al., 2018\n",
    "striatum_microglia_dens_litt = 12101 # Table 1 in Erö et al., 2018\n",
    "striatum_microglia_dens_tolerance = 1930 # Table 1 in Erö et al., 2018\n",
    "LGd_neuron_dens_litt = 141000 # from Table 5 in Keller et al., 2018\n",
    "LGd_neuron_dens_tolerance = 24000 # from Table 5 in Keller et al., 2018\n",
    "thalamus_glia_dens_litt = 80966 # from Table 5 in Keller et al., 2018\n",
    "thalamus_glia_dens_tolerance = thalamus_glia_dens_litt * default_glia_proportion # default Not available /!\\\n",
    "thalamus_cell_dens_litt = 122450 # from Table 5 in Keller et al., 2018\n",
    "thalamus_cell_dens_tolerance = thalamus_cell_dens_litt * default_cell_proportion # default Not available /!\\\n",
    "VPM_neuron_dens_litt = 83100 # from Table 5 in Keller et al., 2018\n",
    "VPM_neuron_dens_tolerance = 7900 # from Table 5 in Keller et al., 2018\n",
    "VPL_neuron_dens_litt = 57466.92 # LNMC data from 2019 Thalamic Release Report pages 21-23 https://docs.google.com/document/d/1maQ8VIwaFeyOQpfUy6PoLcamp48NW9NUy6BPN_oLRQk/edit#heading=h.otpvbup5qa45\n",
    "# VPL_neuron_dens_tolerance = 5201.4 # LNMC data from 2019 Thalamic Release Report pages 21-23 https://docs.google.com/document/d/1maQ8VIwaFeyOQpfUy6PoLcamp48NW9NUy6BPN_oLRQk/edit#heading=h.otpvbup5qa45\n",
    "VPL_neuron_dens_tolerance = VPL_neuron_dens_litt * default_neuron_proportion # default Not available /!\\\n",
    "VPL_pv_dens_litt = 1238.528635\t# from Kim et al., 2017\n",
    "VPL_pv_dens_tolerance = 575.6900057 # from Kim et al., 2017\n",
    "VPL_sst_dens_litt = 1609.664213 # from Kim et al., 2017\n",
    "VPL_sst_dens_tolerance = 1186.589608 # from Kim et al., 2017\n",
    "VPL_vip_dens_litt = 0.746468649 # from Kim et al., 2017\n",
    "VPL_vip_dens_tolerance = 1.296087826 # from Kim et al., 2017\n",
    "MOB_cell_dens_litt = 383148 # from Tables in Parrish-Aungst et al., 2007\n",
    "MOB_cell_dens_tolerance = 27027 # from Tables in Parrish-Aungst et al., 2007\n",
    "MOB_neuron_dens_litt = 246422 # from Tables in Parrish-Aungst et al., 2007\n",
    "MOB_neuron_dens_tolerance = 17488 # from Tables in Parrish-Aungst et al., 2007\n",
    "MOB_glia_dens_litt = 136725 # from Tables in Parrish-Aungst et al., 2007\n",
    "MOB_glia_dens_tolerance = 9539 # from Tables in Parrish-Aungst et al., 2007\n",
    "\n",
    "print(\"Done\")"
   ]
  },
  {
   "cell_type": "code",
   "execution_count": 20,
   "id": "f3c05dbb-37c4-41fe-8637-f09fbbea197d",
   "metadata": {},
   "outputs": [
    {
     "name": "stdout",
     "output_type": "stream",
     "text": [
      "\n",
      "Launching the assertions and writing ouptut result in the log file...\n"
     ]
    }
   ],
   "source": [
    "print(\"\\nLaunching the assertions and writing ouptut result in the log file...\")\n",
    "\n",
    "# with open(output_log_file_path, \"a\") as log_file:\n",
    "\n",
    "# Catching all prints to write them into a log file\n",
    "# sys.stdout = log_file\n",
    "\n",
    "# Functions\n",
    "def print_range_bar(value, min_value, max_value, bar_length=40):\n",
    "    \"\"\"\n",
    "    Printing the range bar of the given density compared to literature plus some statisics elements (std, z-score)\n",
    "    @method print_range_bar\n",
    "    @param {Float} value The input dentity value to assert\n",
    "    @param {Float} min_value The min density value set by literature\n",
    "    @param {Float} max_value The max density value set by literature\n",
    "    @param {Integer} bar_length The length of the bar to plot\n",
    "    @return {None}\n",
    "    \"\"\"\n",
    "    progress = (value - min_value) / (max_value - min_value)\n",
    "    progress = max(0, min(1, progress))\n",
    "    arrow = ' ' * int(round(bar_length * progress)) + '*'\n",
    "    spaces = ' ' * (bar_length - len(arrow))\n",
    "    # Format the values as integers and display without decimal places\n",
    "    value = int(round(value))\n",
    "    min_value = int(round(min_value))\n",
    "    max_value = int(round(max_value))\n",
    "    mean_val = (min_value + max_value)/2\n",
    "    std = mean_val - min_value\n",
    "    z_score = round((value - mean_val)/std, 2)\n",
    "    std_percentage = round((mean_val - min_value)/mean_val*100, 1)\n",
    "    range_to_print = f'Range: [{arrow}{spaces}] {value}  | z-score = {z_score} |  -{std_percentage}% [{min_value}, {max_value}] +{std_percentage}%'\n",
    "    if value < min_value:\n",
    "        range_to_print = range_to_print.replace(\"[*\", \"*[\")\n",
    "        print(range_to_print)\n",
    "        # try:\n",
    "        #     print(\"diff = \" + str(mean_val - value) + \"  |   -\" + str(round(mean_val - value)/mean_val*100,1) + \"%\")\n",
    "        # except:\n",
    "        #     print(\"EXCEPTION: low limit\")\n",
    "        #     pass\n",
    "    elif value > max_value:\n",
    "        # try:\n",
    "        #     print(\"diff = \" + str(mean_val - value) + \"  |   +\" + str(round(mean_val - value)/mean_val*100,1) + \"%\")\n",
    "        # except:\n",
    "        #     print(\"EXCEPTION: high limit\")\n",
    "        #     pass\n",
    "        range_to_print = range_to_print.replace(\"*]\", \"]*\")\n",
    "        print(range_to_print)\n",
    "    else:\n",
    "        print(range_to_print)\n",
    "    return\n",
    "\n",
    "\n",
    "class DensityError(Exception):\n",
    "    def __init__(self, message):\n",
    "        self.message = message\n",
    "        super().__init__(self.message)\n",
    "\n",
    "\n",
    "def z_score_assertion(value = 0, min_value = 0, max_value = 0, assertion_message = \"\"):\n",
    "    \"\"\"\n",
    "    Asserting the z-score for a given assertion is in the right range from literature:\n",
    "        - |z| <= 1: VALIDATED\n",
    "        - 1 < |z| <= 2: WARNING\n",
    "        - |z| > 2: ERROR\n",
    "    @method z_score_assertion\n",
    "    @param {Float} value The input dentity value to assert\n",
    "    @param {Float} min_value The min density value set by literature\n",
    "    @param {Float} max_value The max density value set by literature\n",
    "    @param {String} assertion_message The assertion message to print if a Warning or an Error is raised\n",
    "    @return {None}\n",
    "    \"\"\"\n",
    "    mean_val = (min_value + max_value)/2\n",
    "    std = mean_val - min_value\n",
    "    z_score = round((value - mean_val)/std, 2)\n",
    "    if abs(z_score) <= 1:\n",
    "        print(\"Validated\")\n",
    "    elif (abs(z_score) > 1) and (abs(z_score) <= 2):\n",
    "        warnings.warn(assertion_message, UserWarning)\n",
    "        print(\"WARNING:\", assertion_message)\n",
    "    elif abs(z_score) > 2:\n",
    "        print(\"ERROR:\", assertion_message)\n",
    "        raise DensityError(assertion_message)\n",
    "    else:\n",
    "        raise ValueError(\"Uknown value\")\n",
    "    return\n",
    "\n",
    "\n",
    "def z_score_assertion_sub_regions(value = 0, min_value = 0, max_value = 0, assertion_message = \"\"):\n",
    "    \"\"\"\n",
    "    Asserting the z-score for a given assertion is in the right range from literature:\n",
    "        - |z| <= 1: VALIDATED\n",
    "        - |z| > 1: WARNING\n",
    "    @method z_score_assertion_sub_regions\n",
    "    @param {Float} value The input dentity value to assert\n",
    "    @param {Float} min_value The min density value set by literature\n",
    "    @param {Float} max_value The max density value set by literature\n",
    "    @param {String} assertion_message The assertion message to print if a Warning is raised\n",
    "    @return {None}\n",
    "    \"\"\"\n",
    "    mean_val = (min_value + max_value)/2\n",
    "    std = mean_val - min_value\n",
    "    z_score = round((value - mean_val)/std, 2)\n",
    "    if abs(z_score) <= 1:\n",
    "        print(\"Validated\")\n",
    "    elif abs(z_score) > 1:\n",
    "        warnings.warn(assertion_message, UserWarning)\n",
    "        print(\"WARNING:\", assertion_message)\n",
    "    else:\n",
    "        raise ValueError(\"Uknown value\")\n",
    "    return\n",
    "\n",
    "\n",
    "\n",
    "def z_score_assertion_after_transplant(value = 0, min_value = 0, max_value = 0, assertion_message = \"\"):\n",
    "    \"\"\"\n",
    "    Asserting the z-score for a given assertion after transplant is in the right range from literature:\n",
    "        - |z| <= 1: VALIDATED\n",
    "        - |z| > 1: ERROR\n",
    "    @method z_score_assertion\n",
    "    @param {Float} value The input dentity value to assert\n",
    "    @param {Float} min_value The min density value set by literature\n",
    "    @param {Float} max_value The max density value set by literature\n",
    "    @param {String} assertion_message The assertion message to print if a Warning or an Error is raised\n",
    "    @return {None}\n",
    "    \"\"\"\n",
    "    mean_val = (min_value + max_value)/2\n",
    "    std = mean_val - min_value\n",
    "    z_score = round((value - mean_val)/std, 2)\n",
    "    if abs(z_score) <= 1:\n",
    "        print(\"Validated\")\n",
    "    elif (abs(z_score) > 1):\n",
    "        print(\"ERROR:\", assertion_message)\n",
    "        raise DensityError(assertion_message)\n",
    "    else:\n",
    "        raise ValueError(\"Uknown value\")\n",
    "    return\n",
    "\n",
    "# =============================================================================================\n",
    "\n"
   ]
  },
  {
   "cell_type": "markdown",
   "id": "7ac019f9-baad-4b9d-a1f2-da4123136210",
   "metadata": {},
   "source": [
    "## Calculations"
   ]
  },
  {
   "cell_type": "code",
   "execution_count": 32,
   "id": "e571fb45-1646-4630-9a69-ce56acb1e5e1",
   "metadata": {},
   "outputs": [
    {
     "name": "stdout",
     "output_type": "stream",
     "text": [
      "\n",
      "Reading the input files...\n",
      "Done\n"
     ]
    }
   ],
   "source": [
    "import nrrd\n",
    "\n",
    "# Reading files\n",
    "print(\"\\nReading the input files...\")\n",
    "\n",
    "#annotation = VoxelData.load_nrrd(brain_regions).raw\n",
    "#cell = VoxelData.load_nrrd(cell_density).raw\n",
    "#neuron = VoxelData.load_nrrd(os.path.join(density_folder, \"total_neuron_densities.nrrd\")).raw\n",
    "annotation = VoxelData.load_nrrd('/gpfs/bbp.cscs.ch/data/project/proj84/piluso/share/general/warped_augmented_CCFv3/annotation_25_2022_CCFv3_0.nrrd').raw\n",
    "\n",
    "\n",
    "# # Unscaled values\n",
    "# cell, __ = nrrd.read(os.path.join(density_folder, \"total_celltypes_densities.nrrd\"))\n",
    "# neuron, __ = nrrd.read(os.path.join(density_folder, \"total_neuron_densities.nrrd\"))\n",
    "# exc, __ = nrrd.read(os.path.join(density_folder, \"total_excitatory_densities.nrrd\"))\n",
    "# gad, __ = nrrd.read(os.path.join(density_folder, \"total_inhibitory_densities.nrrd\"))\n",
    "# microglia, __ = nrrd.read(os.path.join(density_folder, \"total_microglia_densities.nrrd\"))\n",
    "# nn, __ = nrrd.read(os.path.join(density_folder, \"total_nonneuron_densities.nrrd\"))\n",
    "# olig, __ = nrrd.read(os.path.join(density_folder, \"total_oligocyte_densities.nrrd\"))\n",
    "# astro, __ = nrrd.read(os.path.join(density_folder, \"total_astrotypes_densities.nrrd\"))\n",
    "# glia, __ = nrrd.read(os.path.join(density_folder, \"total_glia_densities.nrrd\"))\n",
    "# exci_inhib_sum, __ = nrrd.read(os.path.join(density_folder, \"total_excinh_densities.nrrd\"))\n",
    "\n",
    "# Scaled values: make sure these files are generated at the end of step 1.5\n",
    "cell, __ = nrrd.read(os.path.join(density_folder, \"scaled_total_celltypes_densities.nrrd\"))\n",
    "neuron, __ = nrrd.read(os.path.join(density_folder, \"scaled_total_neuron_densities.nrrd\"))\n",
    "\n",
    "exc, __ = nrrd.read(\n",
    "    os.path.join(density_folder, \"scaled_total_excitatory_densities.nrrd\"))\n",
    "gad, __ = nrrd.read(\n",
    "    os.path.join(density_folder, \"scaled_total_inhibitory_densities.nrrd\"))\n",
    "microglia, __ = nrrd.read(\n",
    "    os.path.join(density_folder, \"scaled_total_microglia_densities.nrrd\"))\n",
    "nn, __ = nrrd.read(\n",
    "    os.path.join(density_folder, \"scaled_total_nonneuron_densities.nrrd\"))\n",
    "olig, __ = nrrd.read(\n",
    "    os.path.join(density_folder, \"scaled_total_oligocyte_densities.nrrd\"))\n",
    "astro, __ = nrrd.read(\n",
    "    os.path.join(density_folder, \"scaled_total_astrotypes_densities.nrrd\"))\n",
    "glia, __ = nrrd.read(\n",
    "    os.path.join(density_folder, \"scaled_total_glia_densities.nrrd\"))\n",
    "exci_inhib_sum, __ = nrrd.read(\n",
    "    os.path.join(density_folder, \"scaled_total_excinh_densities.nrrd\"))\n",
    "\n",
    "\n",
    "\n",
    "print(\"Done\")"
   ]
  },
  {
   "cell_type": "code",
   "execution_count": 33,
   "id": "7e49a0b4-7272-4695-8445-b6c177ef7b64",
   "metadata": {},
   "outputs": [
    {
     "name": "stdout",
     "output_type": "stream",
     "text": [
      "Assertion on whole brain volumetry and densities...\n",
      "\n",
      "Assertion on total annotation volumetry (mm^3)\n",
      "Range: [                 *                      ] 32313628  | z-score = -0.17 |  -4.6% [31071360, 34069120] +4.6%\n",
      "Validated\n"
     ]
    }
   ],
   "source": [
    "# =============================================================================================\n",
    "# Assertions\n",
    "\n",
    "\n",
    "# 1/ TECHNICAL VALIDATION\n",
    "\n",
    "# To be filled if need be\n",
    "\n",
    "\n",
    "# 2/ SCIENTIFIC VALIDATION\n",
    "\n",
    "# 2.1/ Assertion on whole brain volumetry and densities\n",
    "print(\"Assertion on whole brain volumetry and densities...\")\n",
    "\n",
    "# Assertion on the total volumetry of the annotation\n",
    "whole_brain_annotation_dens = len(np.where(annotation != 0)[0])\n",
    "annotation_dens_diff = abs(wh_mouse_brain_vol_litt_m - whole_brain_annotation_dens)\n",
    "print(\"\\nAssertion on total annotation volumetry (mm^3)\")\n",
    "print_range_bar(whole_brain_annotation_dens, wh_mouse_brain_vol_litt_m - wh_mouse_brain_vol_tolerance_m, wh_mouse_brain_vol_litt_m + wh_mouse_brain_vol_tolerance_m)\n",
    "assertion_message = \"total annotation volumetry out of literature range\"\n",
    "z_score_assertion(whole_brain_annotation_dens, wh_mouse_brain_vol_litt_m - wh_mouse_brain_vol_tolerance_m, wh_mouse_brain_vol_litt_m + wh_mouse_brain_vol_tolerance_m, assertion_message)\n",
    "\n"
   ]
  },
  {
   "cell_type": "code",
   "execution_count": 34,
   "id": "dd30014c-9283-4903-9da9-276a7e1c6b1c",
   "metadata": {},
   "outputs": [
    {
     "data": {
      "image/png": "[encoded data removed]",
      "text/plain": [
       "<Figure size 432x288 with 2 Axes>"
      ]
     },
     "metadata": {
      "needs_background": "light"
     },
     "output_type": "display_data"
    }
   ],
   "source": [
    "import matplotlib.pyplot as plt\n",
    "plt.imshow(cell[520], cmap='coolwarm');\n",
    "plt.scatter(120, 200)\n",
    "plt.colorbar()  # Add color bar\n",
    "plt.show()"
   ]
  },
  {
   "cell_type": "code",
   "execution_count": 35,
   "id": "175f253c-ef31-4980-ad0c-43e313ab83ff",
   "metadata": {},
   "outputs": [
    {
     "data": {
      "image/png": "[encoded data removed]",
      "text/plain": [
       "<Figure size 432x288 with 1 Axes>"
      ]
     },
     "metadata": {
      "needs_background": "light"
     },
     "output_type": "display_data"
    },
    {
     "name": "stdout",
     "output_type": "stream",
     "text": [
      "10680 Crus 2, molecular layer value 675170 ( 500 130 130 )\n"
     ]
    }
   ],
   "source": [
    "import matplotlib.pyplot as plt\n",
    "z = 500\n",
    "plt.imshow(cell[z], cmap='coolwarm');\n",
    "# Define the coordinates\n",
    "x = 130\n",
    "y = 130\n",
    "\n",
    "name = region_map.get(annotation[z,x,y], \"name\", with_ascendants=False)\n",
    "\n",
    "plt.scatter(x, y, color='yellow', label='Point', s=10)\n",
    "# Add labels and title\n",
    "plt.xlabel('X')\n",
    "plt.ylabel('Y')\n",
    "plt.title(f'The id at this point is {annotation[z,x,y]}, {name}, the value is {cell[z,x,y]}')\n",
    "# Show the plot\n",
    "plt.legend()\n",
    "plt.grid(True)\n",
    "plt.show()\n",
    "print(annotation[z,x,y], name, \"value\", cell[z,x,y],\"(\", z, x, y, \")\")"
   ]
  },
  {
   "cell_type": "markdown",
   "id": "80d3a08e-0e52-41eb-b513-c5b15b4de0e0",
   "metadata": {},
   "source": [
    " 0s:\n",
    "- 269 Posterolateral visual area, layer 2/3 value 0 ( 85 80 400 )\n",
    "- 621 Motor nucleus of trigeminal\n",
    "- 326 superior cerebelar peduncles value 0 ( 170 180 400 )\n",
    "- 313 Midbrain value 0 ( 150 275 400 )\n",
    "- 1052 Pedunculopontine nucleus value 0 ( 160 170 400 )\n",
    "\n",
    "\n",
    " ___\n",
    " HIGH:\n",
    "- 867 Parabrachial nucleus\n",
    "- 1052 Pedunculopontine nucleus value 0 ( 154 273 400 )\n"
   ]
  },
  {
   "cell_type": "markdown",
   "id": "e24bfcfc-bd37-4e72-9571-40a72868bead",
   "metadata": {},
   "source": [
    "### Continue"
   ]
  },
  {
   "cell_type": "markdown",
   "id": "dd848e5c-18d3-4a6c-9262-85688ac01bce",
   "metadata": {},
   "source": [
    "for the next cell the variable cell should contain total cell densities"
   ]
  },
  {
   "cell_type": "code",
   "execution_count": 36,
   "id": "b588a891-0570-44f1-9d22-71cdb9a23e1d",
   "metadata": {},
   "outputs": [
    {
     "name": "stdout",
     "output_type": "stream",
     "text": [
      "\n",
      "Assertion on total cell densities (/mm^3)\n",
      "Range: [                                 *      ] 243243  | z-score = 0.65 |  -17.5% [180012, 256529] +17.5%\n",
      "Validated\n"
     ]
    }
   ],
   "source": [
    "# Assertion on total cell densities\n",
    "cell_dens = np.sum(cell) / whole_brain_annotation_dens# * voxel_volume\n",
    "cell_dens_diff = abs(cell_dens_litt - cell_dens)\n",
    "print(\"\\nAssertion on total cell densities (/mm^3)\")\n",
    "print_range_bar(cell_dens, cell_dens_litt - cell_dens_tolerance, cell_dens_litt + cell_dens_tolerance)\n",
    "assertion_message = \"total cell densities out of literature range\"\n",
    "z_score_assertion(cell_dens, cell_dens_litt - cell_dens_tolerance, cell_dens_litt + cell_dens_tolerance, assertion_message)\n"
   ]
  },
  {
   "cell_type": "code",
   "execution_count": 37,
   "id": "8858af01-0b86-49e5-a49a-de0b0c243109",
   "metadata": {},
   "outputs": [
    {
     "name": "stdout",
     "output_type": "stream",
     "text": [
      "\n",
      "Assertion on total neuron densities (/mm^3)\n",
      "Range: [                      *                 ] 143052  | z-score = 0.09 |  -16.2% [118096, 163919] +16.2%\n",
      "Validated\n"
     ]
    }
   ],
   "source": [
    "\n",
    "# Assertion on total neuron densities\n",
    "neuron_dens = np.sum(neuron) / whole_brain_annotation_dens # * voxel_volume\n",
    "neuron_dens_diff = abs(neuron_dens_litt - neuron_dens)\n",
    "print(\"\\nAssertion on total neuron densities (/mm^3)\")\n",
    "print_range_bar(neuron_dens, neuron_dens_litt - neuron_dens_tolerance, neuron_dens_litt + neuron_dens_tolerance)\n",
    "assertion_message = \"total neuron densities out of literature range\"\n",
    "z_score_assertion(neuron_dens, neuron_dens_litt - neuron_dens_tolerance, neuron_dens_litt + neuron_dens_tolerance, assertion_message)\n",
    "\n"
   ]
  },
  {
   "cell_type": "code",
   "execution_count": 38,
   "id": "d7a2837e-aadb-4add-b477-b0dc8959fceb",
   "metadata": {},
   "outputs": [
    {
     "name": "stdout",
     "output_type": "stream",
     "text": [
      "\n",
      "Assertion on total glia densities (/mm^3)\n",
      "Range: [                 *                      ] 74844  | z-score = -0.16 |  -19.9% [61917, 92610] +19.9%\n",
      "Validated\n"
     ]
    }
   ],
   "source": [
    "# Assertion on total glia densities\n",
    "glia_dens = np.sum(glia) / whole_brain_annotation_dens # * voxel_volume\n",
    "glia_dens_diff = abs(glia_dens_litt - glia_dens)\n",
    "print(\"\\nAssertion on total glia densities (/mm^3)\")\n",
    "print_range_bar(glia_dens, glia_dens_litt - glia_dens_tolerance, glia_dens_litt + glia_dens_tolerance)\n",
    "assertion_message = \"total glia densities out of literature range\"\n",
    "z_score_assertion(glia_dens, glia_dens_litt - glia_dens_tolerance, glia_dens_litt + glia_dens_tolerance, assertion_message)\n"
   ]
  },
  {
   "cell_type": "code",
   "execution_count": 39,
   "id": "451e3c3a-80fa-4ac0-b3fe-6ae4a8418c1d",
   "metadata": {},
   "outputs": [
    {
     "name": "stdout",
     "output_type": "stream",
     "text": [
      "\n",
      "Assertion on sum of inhibitory + excitatory neuron densities (/mm^3)\n",
      "Range: [                     *                  ] 142677  | z-score = 0.07 |  -16.2% [118096, 163919] +16.2%\n",
      "Validated\n"
     ]
    }
   ],
   "source": [
    "# Assertion on total sum of inhibitory + excitatory neuron densities\n",
    "#exci_inhib_sum = VoxelData.load_nrrd(excitatory_path_list[0]).raw\n",
    "#print(\"\\nadding initialization 1/\" + str(len(excitatory_path_list)))\n",
    "# for i in range (1, len(excitatory_path_list)):\n",
    "#     print(\"+ adding file \" + str(i+1) + \"/\" + str(len(excitatory_path_list)))\n",
    "#     exci_inhib = VoxelData.load_nrrd(excitatory_path_list[i]).raw\n",
    "#     exci_inhib_sum += exci_inhib\n",
    "exci_inhib_sum_sum = np.sum(exci_inhib_sum) / whole_brain_annotation_dens # * voxel_volume\n",
    "diff_exci_inhib_sum = abs(neuron_dens_litt - exci_inhib_sum_sum)\n",
    "print(\"\\nAssertion on sum of inhibitory + excitatory neuron densities (/mm^3)\")\n",
    "print_range_bar(exci_inhib_sum_sum, neuron_dens_litt - neuron_dens_tolerance, neuron_dens_litt + neuron_dens_tolerance)\n",
    "# print(\"/!\\ Data not available\")\n",
    "assertion_message = \"sum of inhibitory + excitatory neuron densities out of literature range\"\n",
    "z_score_assertion(exci_inhib_sum_sum, neuron_dens_litt - neuron_dens_tolerance, neuron_dens_litt + neuron_dens_tolerance, assertion_message)\n"
   ]
  },
  {
   "cell_type": "code",
   "execution_count": 40,
   "id": "5d3732fe-d721-4e50-8f5a-aa2c8911788d",
   "metadata": {},
   "outputs": [
    {
     "name": "stdout",
     "output_type": "stream",
     "text": [
      "\n",
      "Assertion on total inhibitory neuron densities (/mm^3)\n",
      "/!\\ Tolerance set to default for neuron density\n",
      "Range: [                     *                  ] 28835  | z-score = 0.05 |  -16.0% [24017, 33165] +16.0%\n",
      "Validated\n"
     ]
    }
   ],
   "source": [
    "# Assertion on total inhibitory neuron densities\n",
    "inhi_dens = np.sum(gad) / whole_brain_annotation_dens # * voxel_volume\n",
    "diff_inhi = abs(inhibitory_neuron_dens_litt - inhi_dens)\n",
    "print(\"\\nAssertion on total inhibitory neuron densities (/mm^3)\")\n",
    "print(\"/!\\ Tolerance set to default for neuron density\")\n",
    "# print(\"/!\\ Default tolerance increased by a factor of 2.5\")\n",
    "print_range_bar(inhi_dens, inhibitory_neuron_dens_litt - inhibitory_neuron_dens_tolerance, inhibitory_neuron_dens_litt + inhibitory_neuron_dens_tolerance)\n",
    "# assert (diff_inhi <= inhibitory_neuron_dens_tolerance * 2.5) #, f\"diff_ini = \" + str(diff_inhi) + \"   |   tolerence = \" + str(inhibitory_neuron_dens_tolerance)\n",
    "assertion_message = \"total inhibitory neuron densities out of literature range\"\n",
    "z_score_assertion(inhi_dens, inhibitory_neuron_dens_litt - inhibitory_neuron_dens_tolerance, inhibitory_neuron_dens_litt + inhibitory_neuron_dens_tolerance, assertion_message)\n",
    "\n"
   ]
  },
  {
   "cell_type": "raw",
   "id": "1f66b2c5-049b-40de-8646-9f5621900b33",
   "metadata": {},
   "source": [
    "# Assertion on total sum of glia density subtypes\n",
    "#sum_glia = astrocyte + microglia + oligodendrocyte\n",
    "sum_glia_dens = int(np.sum(sum_glia)) / whole_brain_annotation_dens # * voxel_volume)\n",
    "diff_sum_glia = abs(glia_dens_litt - sum_glia_dens)\n",
    "print(\"\\nAssertion on sum of glia density subtypes (/mm^3)\")\n",
    "print_range_bar(sum_glia_dens, glia_dens_litt - glia_dens_tolerance, glia_dens_litt + glia_dens_tolerance)\n",
    "assertion_message = \"total sum of glia density subtypes out of literature range\"\n",
    "z_score_assertion(sum_glia_dens, glia_dens_litt - glia_dens_tolerance, glia_dens_litt + glia_dens_tolerance, assertion_message)\n",
    "\n"
   ]
  },
  {
   "cell_type": "code",
   "execution_count": 30,
   "id": "8b8f65ed-c309-4b1e-8083-372a84dbdb2d",
   "metadata": {},
   "outputs": [
    {
     "name": "stdout",
     "output_type": "stream",
     "text": [
      "\n",
      "Assertion on total astrocyte densities\n",
      "/!\\ Litterature data not available\n",
      "\n",
      "Assertion on total microglia densities\n",
      "/!\\ Litterature data not available\n",
      "\n",
      "Assertion on total oligodendrocyte densities\n",
      "/!\\ Data not available\n"
     ]
    }
   ],
   "source": [
    "# Assertion on total astrocyte densities\n",
    "print(\"\\nAssertion on total astrocyte densities\")\n",
    "print(\"/!\\ Litterature data not available\")\n",
    "\n",
    "# Assertion on total microglia densities\n",
    "print(\"\\nAssertion on total microglia densities\")\n",
    "print(\"/!\\ Litterature data not available\")\n",
    "\n",
    "# Assertion on total oligodendrocyte density\n",
    "print(\"\\nAssertion on total oligodendrocyte densities\")\n",
    "print(\"/!\\ Data not available\")\n",
    "\n"
   ]
  },
  {
   "cell_type": "code",
   "execution_count": null,
   "id": "23fc1d19-fc8a-40af-bf77-3070a41b33ac",
   "metadata": {},
   "outputs": [],
   "source": []
  }
 ],
 "metadata": {
  "kernelspec": {
   "display_name": "Environment (cell2loc_env)",
   "language": "python",
   "name": "cell2loc_env"
  },
  "language_info": {
   "codemirror_mode": {
    "name": "ipython",
    "version": 3
   },
   "file_extension": ".py",
   "mimetype": "text/x-python",
   "name": "python",
   "nbconvert_exporter": "python",
   "pygments_lexer": "ipython3",
   "version": "3.9.7"
  }
 },
 "nbformat": 4,
 "nbformat_minor": 5
}
