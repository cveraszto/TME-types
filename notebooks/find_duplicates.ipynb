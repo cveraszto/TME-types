{
 "cells": [
  {
   "cell_type": "markdown",
   "id": "cfc3955f-7e67-4e27-b60d-fbab8f8afb80",
   "metadata": {},
   "source": [
    "This notebook is only to check if we have every csv file after calculating average/median gene expressions.\n",
    "There are 5322 cell types in the ABC atlas, so there has to be that many csv files. \n",
    "- Each csv file contains the gene expressions of all genes the cell type is expressing. \n",
    "- Gene ids are used instead of gene names for better precision. \n",
    "- 0 expressions are also written out.\n",
    "\n",
    "This notebook is useful for the TME-paper: A quantitative spatial atlas of transcriptomic, morphological, and electrophysiological cell type densities in the mouse brain\n"
   ]
  },
  {
   "cell_type": "code",
   "execution_count": 1,
   "id": "0c326d98-253f-40a1-a5e5-88ed70aebb01",
   "metadata": {},
   "outputs": [],
   "source": [
    "from os import listdir\n",
    "from os.path import isfile, join\n",
    "\n",
    "mypath = '/gpfs/bbp.cscs.ch/data/project/proj84/csaba/aibs_10x_mouse_wholebrain//metadata/averages/20230830/mean/'\n",
    "#mypath = '/gpfs/bbp.cscs.ch/data/project/proj84/csaba/aibs_10x_mouse_wholebrain//metadata/averages/20230830/median'\n",
    "\n",
    "onlyfiles = [f for f in listdir(mypath) if isfile(join(mypath, f))]"
   ]
  },
  {
   "cell_type": "code",
   "execution_count": 2,
   "id": "c7ba65d9-b320-4f3a-b29f-2642a4d86ea1",
   "metadata": {},
   "outputs": [
    {
     "data": {
      "text/plain": [
       "5322"
      ]
     },
     "execution_count": 2,
     "metadata": {},
     "output_type": "execute_result"
    }
   ],
   "source": [
    "len(onlyfiles)"
   ]
  },
  {
   "cell_type": "code",
   "execution_count": 3,
   "id": "ba4d10a5-b854-4725-8286-3111d59dba88",
   "metadata": {},
   "outputs": [],
   "source": [
    "for _ in onlyfiles[:]:\n",
    "    #print(_[:-2])\n",
    "    if _[-2:] != \"sv\":\n",
    "        print(_)"
   ]
  },
  {
   "cell_type": "code",
   "execution_count": 4,
   "id": "5ea022b6-5eae-4c8a-98df-238bbf4e12ac",
   "metadata": {},
   "outputs": [
    {
     "name": "stdout",
     "output_type": "stream",
     "text": [
      "Total number of files:  5322\n",
      "Missing file numbers: []\n"
     ]
    }
   ],
   "source": [
    "import os \n",
    "\n",
    "download_base = \"/gpfs/bbp.cscs.ch/data/project/proj84/csaba/aibs_10x_mouse_wholebrain/\"\n",
    "\n",
    "directory_path = f\"{download_base}metadata/averages/20230830/mean/\"\n",
    "\n",
    "\n",
    "# Define the expected range of file numbers\n",
    "start_number = 1\n",
    "end_number = 5322  # Adjust the range based on your sequence\n",
    "\n",
    "# Create a set to store the presence of files\n",
    "file_exists = set()\n",
    "\n",
    "# Loop through existing files and mark their presence\n",
    "for filename in os.listdir(directory_path):\n",
    "#    print(filename)\n",
    "    # Extract the first three characters from the file name\n",
    "     file_number = filename[:4].zfill(4)\n",
    "#     print(file_number)\n",
    "     if file_number.isdigit():\n",
    "         file_exists.add(int(file_number))\n",
    "\n",
    "# Find and print the missing file numbers\n",
    "missing_files = set(range(start_number, end_number + 1)) - file_exists\n",
    "print(\"Total number of files: \", len(file_exists))\n",
    "print(\"Missing file numbers:\", sorted(missing_files))"
   ]
  },
  {
   "cell_type": "code",
   "execution_count": 5,
   "id": "e6e9f613-273c-49e8-8e05-717ad344faa9",
   "metadata": {},
   "outputs": [],
   "source": [
    "from os import listdir\n",
    "from os.path import isfile, join\n",
    "\n",
    "import pandas as pd\n",
    "\n",
    "# We have 2 folders and 2 save files to match! \n",
    "# The heavy calculation for this is in /scripts/calc_av_jobarray_classesonly_writegpfs.py\n",
    "\n",
    "mypath = '/gpfs/bbp.cscs.ch/data/project/proj84/csaba/aibs_10x_mouse_wholebrain/metadata/averages/20230830/mean/'\n",
    "#mypath = '/gpfs/bbp.cscs.ch/data/project/proj84/csaba/aibs_10x_mouse_wholebrain/metadata/averages/20230830/median/'\n",
    "\n",
    "onlyfiles = [f for f in listdir(mypath) if isfile(join(mypath, f))]"
   ]
  },
  {
   "cell_type": "code",
   "execution_count": 6,
   "id": "40411e1b-cb19-44e9-a9be-1a08801d5d96",
   "metadata": {},
   "outputs": [
    {
     "data": {
      "text/plain": [
       "5322"
      ]
     },
     "execution_count": 6,
     "metadata": {},
     "output_type": "execute_result"
    }
   ],
   "source": [
    "len(onlyfiles)"
   ]
  },
  {
   "cell_type": "code",
   "execution_count": 7,
   "id": "8e125e27-5e98-4b13-967d-102eaa612917",
   "metadata": {},
   "outputs": [],
   "source": [
    "onlyfiles.sort()"
   ]
  },
  {
   "cell_type": "code",
   "execution_count": 8,
   "id": "af1635ae-2414-4d76-8b16-38b8b062467e",
   "metadata": {},
   "outputs": [],
   "source": [
    "dfs = []\n",
    "\n",
    "for file in onlyfiles:\n",
    "    df = pd.read_csv(mypath+file, index_col='gene_identifier')\n",
    "    dfs.append(df)\n",
    "    if df.shape[0] != 32285:\n",
    "        print(file)"
   ]
  },
  {
   "cell_type": "code",
   "execution_count": null,
   "id": "e09a90df-6acb-42cb-aec6-961414b9cb7b",
   "metadata": {},
   "outputs": [],
   "source": [
    "final_df = pd.concat(dfs, axis=1)  # You can change axis=1 to axis=0 if needed\n",
    "final_df.shape"
   ]
  },
  {
   "cell_type": "code",
   "execution_count": null,
   "id": "c3cba516-baf1-438c-aca4-5218f99cf95b",
   "metadata": {},
   "outputs": [],
   "source": [
    "# Iterate through DataFrame columns\n",
    "for column in final_df.columns:\n",
    "    column_sum = final_df[column].sum()\n",
    "    if column_sum == 0:\n",
    "        print(f\"Column '{column}' has a sum of 0.\")"
   ]
  },
  {
   "cell_type": "code",
   "execution_count": 39,
   "id": "732096eb-7037-4bcb-b217-7167f6f8c6fe",
   "metadata": {},
   "outputs": [],
   "source": [
    "final_df.to_csv('/gpfs/bbp.cscs.ch/data/project/proj84/csaba/aibs_10x_mouse_wholebrain/metadata/averages/20230830/' + 'all_clusters_trim_mean25_g32285ct5322.csv')\n",
    "\n",
    "#final_df.to_csv('/gpfs/bbp.cscs.ch/data/project/proj84/csaba/aibs_10x_mouse_wholebrain/metadata/averages/20230830/' + 'all_clusters_median_g32285c5196.csv')"
   ]
  },
  {
   "cell_type": "code",
   "execution_count": null,
   "id": "de44731f-e6ee-45e4-af02-9abb00eeb89b",
   "metadata": {},
   "outputs": [],
   "source": []
  }
 ],
 "metadata": {
  "kernelspec": {
   "display_name": "Environment (cell2loc_env)",
   "language": "python",
   "name": "cell2loc_env"
  },
  "language_info": {
   "codemirror_mode": {
    "name": "ipython",
    "version": 3
   },
   "file_extension": ".py",
   "mimetype": "text/x-python",
   "name": "python",
   "nbconvert_exporter": "python",
   "pygments_lexer": "ipython3",
   "version": "3.9.7"
  }
 },
 "nbformat": 4,
 "nbformat_minor": 5
}
